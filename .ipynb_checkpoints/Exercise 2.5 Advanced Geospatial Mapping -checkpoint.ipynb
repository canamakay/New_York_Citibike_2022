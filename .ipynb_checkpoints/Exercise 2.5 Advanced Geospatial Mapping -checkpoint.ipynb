{
 "cells": [
  {
   "cell_type": "markdown",
   "id": "c60e1dbd-7f46-439d-86f1-5f527fd757e1",
   "metadata": {},
   "source": [
    "## Exercise 2.5 Advanced Geospatial Mapping "
   ]
  },
  {
   "cell_type": "code",
   "execution_count": 6,
   "id": "5cd25bf5-5fba-456c-bfb1-72cf9c89f511",
   "metadata": {},
   "outputs": [],
   "source": [
    "#importing libraries\n",
    "import pandas as pd\n",
    "import os\n",
    "from keplergl import KeplerGl\n",
    "from pyproj import CRS\n",
    "import numpy as np\n",
    "from matplotlib import pyplot as plt"
   ]
  },
  {
   "cell_type": "code",
   "execution_count": 8,
   "id": "7d641a29-4383-45f3-977b-0e7c18c5463e",
   "metadata": {},
   "outputs": [],
   "source": [
    "df = pd.read_csv('weather_and_daily_bike_rides_data_smallest_subset.csv', index_col = 0)"
   ]
  },
  {
   "cell_type": "code",
   "execution_count": 10,
   "id": "bfd6b27f-aba1-4ab8-a449-c9b63bc701f6",
   "metadata": {},
   "outputs": [
    {
     "data": {
      "text/plain": [
       "(149191, 14)"
      ]
     },
     "execution_count": 10,
     "metadata": {},
     "output_type": "execute_result"
    }
   ],
   "source": [
    "df.shape"
   ]
  },
  {
   "cell_type": "code",
   "execution_count": 12,
   "id": "a8ecea9f-7fb8-4dee-bf61-9b7141bf8f62",
   "metadata": {},
   "outputs": [
    {
     "data": {
      "text/plain": [
       "Index(['date', 'ride_id', 'rideable_type', 'started_at', 'ended_at',\n",
       "       'start_station_name', 'end_station_name', 'start_lat', 'start_lng',\n",
       "       'end_lat', 'end_lng', 'member_casual', 'avgTemp', 'daily_bike_rides'],\n",
       "      dtype='object')"
      ]
     },
     "execution_count": 12,
     "metadata": {},
     "output_type": "execute_result"
    }
   ],
   "source": [
    "df.columns"
   ]
  },
  {
   "cell_type": "markdown",
   "id": "17746855-ef08-4296-90bf-dc68cbda1d4c",
   "metadata": {},
   "source": [
    "## Data Preprocessing"
   ]
  },
  {
   "cell_type": "code",
   "execution_count": 15,
   "id": "b861a70c-2f9c-4d80-938d-6832208fe040",
   "metadata": {},
   "outputs": [],
   "source": [
    "# Creating a value column and group by start and end station\n",
    "df['value'] = 1"
   ]
  },
  {
   "cell_type": "code",
   "execution_count": 17,
   "id": "e8ae2350-8eec-49c0-8564-33118e18d882",
   "metadata": {},
   "outputs": [],
   "source": [
    "#grouping trips by start_station_name & end_station_name\n",
    "df_group = df.groupby(['start_station_name', 'end_station_name'])['value'].count().reset_index()"
   ]
  },
  {
   "cell_type": "code",
   "execution_count": 19,
   "id": "2eb57946-6238-44c2-99f6-914ebb966131",
   "metadata": {},
   "outputs": [
    {
     "data": {
      "text/html": [
       "<div>\n",
       "<style scoped>\n",
       "    .dataframe tbody tr th:only-of-type {\n",
       "        vertical-align: middle;\n",
       "    }\n",
       "\n",
       "    .dataframe tbody tr th {\n",
       "        vertical-align: top;\n",
       "    }\n",
       "\n",
       "    .dataframe thead th {\n",
       "        text-align: right;\n",
       "    }\n",
       "</style>\n",
       "<table border=\"1\" class=\"dataframe\">\n",
       "  <thead>\n",
       "    <tr style=\"text-align: right;\">\n",
       "      <th></th>\n",
       "      <th>start_station_name</th>\n",
       "      <th>end_station_name</th>\n",
       "      <th>value</th>\n",
       "    </tr>\n",
       "  </thead>\n",
       "  <tbody>\n",
       "    <tr>\n",
       "      <th>0</th>\n",
       "      <td>1 Ave &amp; E 110 St</td>\n",
       "      <td>1 Ave &amp; E 110 St</td>\n",
       "      <td>3</td>\n",
       "    </tr>\n",
       "    <tr>\n",
       "      <th>1</th>\n",
       "      <td>1 Ave &amp; E 110 St</td>\n",
       "      <td>1 Ave &amp; E 94 St</td>\n",
       "      <td>1</td>\n",
       "    </tr>\n",
       "    <tr>\n",
       "      <th>2</th>\n",
       "      <td>1 Ave &amp; E 110 St</td>\n",
       "      <td>2 Ave &amp; E 104 St</td>\n",
       "      <td>1</td>\n",
       "    </tr>\n",
       "    <tr>\n",
       "      <th>3</th>\n",
       "      <td>1 Ave &amp; E 110 St</td>\n",
       "      <td>2 Ave &amp; E 125 St</td>\n",
       "      <td>1</td>\n",
       "    </tr>\n",
       "    <tr>\n",
       "      <th>4</th>\n",
       "      <td>1 Ave &amp; E 110 St</td>\n",
       "      <td>2 Ave &amp; E 29 St</td>\n",
       "      <td>2</td>\n",
       "    </tr>\n",
       "    <tr>\n",
       "      <th>...</th>\n",
       "      <td>...</td>\n",
       "      <td>...</td>\n",
       "      <td>...</td>\n",
       "    </tr>\n",
       "    <tr>\n",
       "      <th>93830</th>\n",
       "      <td>Yankee Ferry Terminal</td>\n",
       "      <td>Hudson St &amp; W 13 St</td>\n",
       "      <td>1</td>\n",
       "    </tr>\n",
       "    <tr>\n",
       "      <th>93831</th>\n",
       "      <td>Yankee Ferry Terminal</td>\n",
       "      <td>Picnic Point</td>\n",
       "      <td>13</td>\n",
       "    </tr>\n",
       "    <tr>\n",
       "      <th>93832</th>\n",
       "      <td>Yankee Ferry Terminal</td>\n",
       "      <td>Soissons Landing</td>\n",
       "      <td>27</td>\n",
       "    </tr>\n",
       "    <tr>\n",
       "      <th>93833</th>\n",
       "      <td>Yankee Ferry Terminal</td>\n",
       "      <td>South St &amp; Whitehall St</td>\n",
       "      <td>2</td>\n",
       "    </tr>\n",
       "    <tr>\n",
       "      <th>93834</th>\n",
       "      <td>Yankee Ferry Terminal</td>\n",
       "      <td>Yankee Ferry Terminal</td>\n",
       "      <td>25</td>\n",
       "    </tr>\n",
       "  </tbody>\n",
       "</table>\n",
       "<p>93835 rows × 3 columns</p>\n",
       "</div>"
      ],
      "text/plain": [
       "          start_station_name         end_station_name  value\n",
       "0           1 Ave & E 110 St         1 Ave & E 110 St      3\n",
       "1           1 Ave & E 110 St          1 Ave & E 94 St      1\n",
       "2           1 Ave & E 110 St         2 Ave & E 104 St      1\n",
       "3           1 Ave & E 110 St         2 Ave & E 125 St      1\n",
       "4           1 Ave & E 110 St          2 Ave & E 29 St      2\n",
       "...                      ...                      ...    ...\n",
       "93830  Yankee Ferry Terminal      Hudson St & W 13 St      1\n",
       "93831  Yankee Ferry Terminal             Picnic Point     13\n",
       "93832  Yankee Ferry Terminal         Soissons Landing     27\n",
       "93833  Yankee Ferry Terminal  South St & Whitehall St      2\n",
       "93834  Yankee Ferry Terminal    Yankee Ferry Terminal     25\n",
       "\n",
       "[93835 rows x 3 columns]"
      ]
     },
     "execution_count": 19,
     "metadata": {},
     "output_type": "execute_result"
    }
   ],
   "source": [
    "df_group"
   ]
  },
  {
   "cell_type": "code",
   "execution_count": 21,
   "id": "a85000f6-223f-4925-ba02-9a52633a76e4",
   "metadata": {},
   "outputs": [],
   "source": [
    "df_group.rename(columns = {'value' : 'trips'}, inplace = True)"
   ]
  },
  {
   "cell_type": "code",
   "execution_count": 25,
   "id": "c515e436-13ba-41d9-8ab8-0302a1ae445a",
   "metadata": {},
   "outputs": [
    {
     "data": {
      "text/html": [
       "<div>\n",
       "<style scoped>\n",
       "    .dataframe tbody tr th:only-of-type {\n",
       "        vertical-align: middle;\n",
       "    }\n",
       "\n",
       "    .dataframe tbody tr th {\n",
       "        vertical-align: top;\n",
       "    }\n",
       "\n",
       "    .dataframe thead th {\n",
       "        text-align: right;\n",
       "    }\n",
       "</style>\n",
       "<table border=\"1\" class=\"dataframe\">\n",
       "  <thead>\n",
       "    <tr style=\"text-align: right;\">\n",
       "      <th></th>\n",
       "      <th>start_station_name</th>\n",
       "      <th>end_station_name</th>\n",
       "      <th>trips</th>\n",
       "    </tr>\n",
       "  </thead>\n",
       "  <tbody>\n",
       "    <tr>\n",
       "      <th>0</th>\n",
       "      <td>1 Ave &amp; E 110 St</td>\n",
       "      <td>1 Ave &amp; E 110 St</td>\n",
       "      <td>3</td>\n",
       "    </tr>\n",
       "    <tr>\n",
       "      <th>1</th>\n",
       "      <td>1 Ave &amp; E 110 St</td>\n",
       "      <td>1 Ave &amp; E 94 St</td>\n",
       "      <td>1</td>\n",
       "    </tr>\n",
       "    <tr>\n",
       "      <th>2</th>\n",
       "      <td>1 Ave &amp; E 110 St</td>\n",
       "      <td>2 Ave &amp; E 104 St</td>\n",
       "      <td>1</td>\n",
       "    </tr>\n",
       "    <tr>\n",
       "      <th>3</th>\n",
       "      <td>1 Ave &amp; E 110 St</td>\n",
       "      <td>2 Ave &amp; E 125 St</td>\n",
       "      <td>1</td>\n",
       "    </tr>\n",
       "    <tr>\n",
       "      <th>4</th>\n",
       "      <td>1 Ave &amp; E 110 St</td>\n",
       "      <td>2 Ave &amp; E 29 St</td>\n",
       "      <td>2</td>\n",
       "    </tr>\n",
       "    <tr>\n",
       "      <th>...</th>\n",
       "      <td>...</td>\n",
       "      <td>...</td>\n",
       "      <td>...</td>\n",
       "    </tr>\n",
       "    <tr>\n",
       "      <th>93830</th>\n",
       "      <td>Yankee Ferry Terminal</td>\n",
       "      <td>Hudson St &amp; W 13 St</td>\n",
       "      <td>1</td>\n",
       "    </tr>\n",
       "    <tr>\n",
       "      <th>93831</th>\n",
       "      <td>Yankee Ferry Terminal</td>\n",
       "      <td>Picnic Point</td>\n",
       "      <td>13</td>\n",
       "    </tr>\n",
       "    <tr>\n",
       "      <th>93832</th>\n",
       "      <td>Yankee Ferry Terminal</td>\n",
       "      <td>Soissons Landing</td>\n",
       "      <td>27</td>\n",
       "    </tr>\n",
       "    <tr>\n",
       "      <th>93833</th>\n",
       "      <td>Yankee Ferry Terminal</td>\n",
       "      <td>South St &amp; Whitehall St</td>\n",
       "      <td>2</td>\n",
       "    </tr>\n",
       "    <tr>\n",
       "      <th>93834</th>\n",
       "      <td>Yankee Ferry Terminal</td>\n",
       "      <td>Yankee Ferry Terminal</td>\n",
       "      <td>25</td>\n",
       "    </tr>\n",
       "  </tbody>\n",
       "</table>\n",
       "<p>93835 rows × 3 columns</p>\n",
       "</div>"
      ],
      "text/plain": [
       "          start_station_name         end_station_name  trips\n",
       "0           1 Ave & E 110 St         1 Ave & E 110 St      3\n",
       "1           1 Ave & E 110 St          1 Ave & E 94 St      1\n",
       "2           1 Ave & E 110 St         2 Ave & E 104 St      1\n",
       "3           1 Ave & E 110 St         2 Ave & E 125 St      1\n",
       "4           1 Ave & E 110 St          2 Ave & E 29 St      2\n",
       "...                      ...                      ...    ...\n",
       "93830  Yankee Ferry Terminal      Hudson St & W 13 St      1\n",
       "93831  Yankee Ferry Terminal             Picnic Point     13\n",
       "93832  Yankee Ferry Terminal         Soissons Landing     27\n",
       "93833  Yankee Ferry Terminal  South St & Whitehall St      2\n",
       "93834  Yankee Ferry Terminal    Yankee Ferry Terminal     25\n",
       "\n",
       "[93835 rows x 3 columns]"
      ]
     },
     "execution_count": 25,
     "metadata": {},
     "output_type": "execute_result"
    }
   ],
   "source": [
    "df_group"
   ]
  },
  {
   "cell_type": "code",
   "execution_count": 27,
   "id": "e3f5f247-eff1-474a-a2bd-54a65136a69c",
   "metadata": {
    "collapsed": true,
    "jupyter": {
     "outputs_hidden": true
    }
   },
   "outputs": [
    {
     "data": {
      "text/plain": [
       "trips\n",
       "1     66250\n",
       "2     15890\n",
       "3      5766\n",
       "4      2647\n",
       "5      1337\n",
       "6       721\n",
       "7       404\n",
       "8       255\n",
       "9       147\n",
       "10      108\n",
       "11       73\n",
       "12       51\n",
       "13       41\n",
       "14       29\n",
       "16       26\n",
       "15       16\n",
       "17       14\n",
       "21       11\n",
       "20       10\n",
       "18        9\n",
       "19        6\n",
       "23        4\n",
       "27        3\n",
       "33        2\n",
       "34        2\n",
       "40        2\n",
       "25        2\n",
       "24        2\n",
       "22        1\n",
       "56        1\n",
       "26        1\n",
       "31        1\n",
       "28        1\n",
       "37        1\n",
       "29        1\n",
       "Name: count, dtype: int64"
      ]
     },
     "execution_count": 27,
     "metadata": {},
     "output_type": "execute_result"
    }
   ],
   "source": [
    "df_group['trips'].sort_index().value_counts()"
   ]
  },
  {
   "cell_type": "code",
   "execution_count": 29,
   "id": "1766900c-abb6-413f-a2ec-1022e09ea3cb",
   "metadata": {},
   "outputs": [],
   "source": [
    "#exporting trip data\n",
    "df_group.to_csv('trip_data.csv')"
   ]
  },
  {
   "cell_type": "code",
   "execution_count": 31,
   "id": "4f940af1-7117-44b0-90d0-f8e6c27f9529",
   "metadata": {},
   "outputs": [
    {
     "name": "stdout",
     "output_type": "stream",
     "text": [
      "148867\n",
      "(149191, 15)\n"
     ]
    }
   ],
   "source": [
    "#comparing the sum of the value column with the total number of rows to see if they match \n",
    "#if so, the groupby function has been done correctly\n",
    "print(df_group['trips'].sum())\n",
    "print(df.shape)"
   ]
  },
  {
   "cell_type": "code",
   "execution_count": 33,
   "id": "8f7926fa-5798-4062-a168-5285e9d1422f",
   "metadata": {},
   "outputs": [
    {
     "data": {
      "text/plain": [
       "date                    0\n",
       "ride_id                 0\n",
       "rideable_type           0\n",
       "started_at              0\n",
       "ended_at                0\n",
       "start_station_name      0\n",
       "end_station_name      324\n",
       "start_lat               0\n",
       "start_lng               0\n",
       "end_lat               168\n",
       "end_lng               168\n",
       "member_casual           0\n",
       "avgTemp                 0\n",
       "daily_bike_rides        0\n",
       "value                   0\n",
       "dtype: int64"
      ]
     },
     "execution_count": 33,
     "metadata": {},
     "output_type": "execute_result"
    }
   ],
   "source": [
    "#totals are not equal\n",
    "#checking why this is \n",
    "df.isnull().sum()"
   ]
  },
  {
   "cell_type": "code",
   "execution_count": 35,
   "id": "b997093e-63cb-4a6b-aa97-030954118126",
   "metadata": {},
   "outputs": [],
   "source": [
    "#creating a new df with no missing values\n",
    "df.dropna(inplace = True)"
   ]
  },
  {
   "cell_type": "code",
   "execution_count": 37,
   "id": "dc235883-5b1c-47f0-99be-3f77d16a0773",
   "metadata": {},
   "outputs": [
    {
     "data": {
      "text/plain": [
       "(148867, 15)"
      ]
     },
     "execution_count": 37,
     "metadata": {},
     "output_type": "execute_result"
    }
   ],
   "source": [
    "df.shape"
   ]
  },
  {
   "cell_type": "code",
   "execution_count": 39,
   "id": "94912c1e-feaa-4476-b3cf-3097a586bc23",
   "metadata": {},
   "outputs": [
    {
     "name": "stdout",
     "output_type": "stream",
     "text": [
      "148867\n",
      "(148867, 15)\n"
     ]
    }
   ],
   "source": [
    "#comparing the sum of the trips column with the total number of rows again\n",
    "print(df_group['trips'].sum())\n",
    "print(df.shape)"
   ]
  },
  {
   "cell_type": "code",
   "execution_count": 41,
   "id": "26a2abcf-697a-4b40-8557-c9da9b79a219",
   "metadata": {},
   "outputs": [
    {
     "data": {
      "text/html": [
       "<div>\n",
       "<style scoped>\n",
       "    .dataframe tbody tr th:only-of-type {\n",
       "        vertical-align: middle;\n",
       "    }\n",
       "\n",
       "    .dataframe tbody tr th {\n",
       "        vertical-align: top;\n",
       "    }\n",
       "\n",
       "    .dataframe thead th {\n",
       "        text-align: right;\n",
       "    }\n",
       "</style>\n",
       "<table border=\"1\" class=\"dataframe\">\n",
       "  <thead>\n",
       "    <tr style=\"text-align: right;\">\n",
       "      <th></th>\n",
       "      <th>date</th>\n",
       "      <th>ride_id</th>\n",
       "      <th>rideable_type</th>\n",
       "      <th>started_at</th>\n",
       "      <th>ended_at</th>\n",
       "      <th>start_station_name</th>\n",
       "      <th>end_station_name</th>\n",
       "      <th>start_lat</th>\n",
       "      <th>start_lng</th>\n",
       "      <th>end_lat</th>\n",
       "      <th>end_lng</th>\n",
       "      <th>member_casual</th>\n",
       "      <th>avgTemp</th>\n",
       "      <th>daily_bike_rides</th>\n",
       "      <th>value</th>\n",
       "    </tr>\n",
       "  </thead>\n",
       "  <tbody>\n",
       "    <tr>\n",
       "      <th>0</th>\n",
       "      <td>2022-01-01</td>\n",
       "      <td>69E36EE94F201D31</td>\n",
       "      <td>electric_bike</td>\n",
       "      <td>2022-01-01 16:15:45.492</td>\n",
       "      <td>2022-01-01 16:33:09.229</td>\n",
       "      <td>E 58 St &amp; 3 Ave</td>\n",
       "      <td>W 87 St &amp; Amsterdam Ave</td>\n",
       "      <td>40.760958</td>\n",
       "      <td>-73.967245</td>\n",
       "      <td>40.788390</td>\n",
       "      <td>-73.974700</td>\n",
       "      <td>member</td>\n",
       "      <td>11.6</td>\n",
       "      <td>1028</td>\n",
       "      <td>1</td>\n",
       "    </tr>\n",
       "    <tr>\n",
       "      <th>1</th>\n",
       "      <td>2022-01-01</td>\n",
       "      <td>12E108C5D4E30944</td>\n",
       "      <td>electric_bike</td>\n",
       "      <td>2022-01-01 17:18:32.640</td>\n",
       "      <td>2022-01-01 17:20:12.257</td>\n",
       "      <td>Marcus Garvey Blvd &amp; Macon St</td>\n",
       "      <td>Albany Ave &amp; Fulton St</td>\n",
       "      <td>40.682601</td>\n",
       "      <td>-73.938037</td>\n",
       "      <td>40.680011</td>\n",
       "      <td>-73.938475</td>\n",
       "      <td>member</td>\n",
       "      <td>11.6</td>\n",
       "      <td>1028</td>\n",
       "      <td>1</td>\n",
       "    </tr>\n",
       "    <tr>\n",
       "      <th>2</th>\n",
       "      <td>2022-01-01</td>\n",
       "      <td>2095EF3D254EB940</td>\n",
       "      <td>classic_bike</td>\n",
       "      <td>2022-01-01 18:21:43.082</td>\n",
       "      <td>2022-01-01 18:29:56.749</td>\n",
       "      <td>W 21 St &amp; 6 Ave</td>\n",
       "      <td>8 Ave &amp; W 27 St</td>\n",
       "      <td>40.741740</td>\n",
       "      <td>-73.994156</td>\n",
       "      <td>40.747968</td>\n",
       "      <td>-73.996637</td>\n",
       "      <td>member</td>\n",
       "      <td>11.6</td>\n",
       "      <td>1028</td>\n",
       "      <td>1</td>\n",
       "    </tr>\n",
       "    <tr>\n",
       "      <th>3</th>\n",
       "      <td>2022-01-01</td>\n",
       "      <td>10822F0E35739F43</td>\n",
       "      <td>classic_bike</td>\n",
       "      <td>2022-01-01 09:21:09.002</td>\n",
       "      <td>2022-01-01 09:24:39.216</td>\n",
       "      <td>W 70 St &amp; Amsterdam Ave</td>\n",
       "      <td>West End Ave &amp; W 60 St</td>\n",
       "      <td>40.777480</td>\n",
       "      <td>-73.982886</td>\n",
       "      <td>40.772370</td>\n",
       "      <td>-73.990050</td>\n",
       "      <td>member</td>\n",
       "      <td>11.6</td>\n",
       "      <td>1028</td>\n",
       "      <td>1</td>\n",
       "    </tr>\n",
       "    <tr>\n",
       "      <th>4</th>\n",
       "      <td>2022-01-01</td>\n",
       "      <td>A8F8740F4C893FC8</td>\n",
       "      <td>classic_bike</td>\n",
       "      <td>2022-01-01 17:06:59.480</td>\n",
       "      <td>2022-01-01 17:34:11.478</td>\n",
       "      <td>Washington Pl &amp; 6 Ave</td>\n",
       "      <td>E 2 St &amp; Avenue A</td>\n",
       "      <td>40.732241</td>\n",
       "      <td>-74.000264</td>\n",
       "      <td>40.723077</td>\n",
       "      <td>-73.985836</td>\n",
       "      <td>member</td>\n",
       "      <td>11.6</td>\n",
       "      <td>1028</td>\n",
       "      <td>1</td>\n",
       "    </tr>\n",
       "  </tbody>\n",
       "</table>\n",
       "</div>"
      ],
      "text/plain": [
       "         date           ride_id  rideable_type               started_at  \\\n",
       "0  2022-01-01  69E36EE94F201D31  electric_bike  2022-01-01 16:15:45.492   \n",
       "1  2022-01-01  12E108C5D4E30944  electric_bike  2022-01-01 17:18:32.640   \n",
       "2  2022-01-01  2095EF3D254EB940   classic_bike  2022-01-01 18:21:43.082   \n",
       "3  2022-01-01  10822F0E35739F43   classic_bike  2022-01-01 09:21:09.002   \n",
       "4  2022-01-01  A8F8740F4C893FC8   classic_bike  2022-01-01 17:06:59.480   \n",
       "\n",
       "                  ended_at             start_station_name  \\\n",
       "0  2022-01-01 16:33:09.229                E 58 St & 3 Ave   \n",
       "1  2022-01-01 17:20:12.257  Marcus Garvey Blvd & Macon St   \n",
       "2  2022-01-01 18:29:56.749                W 21 St & 6 Ave   \n",
       "3  2022-01-01 09:24:39.216        W 70 St & Amsterdam Ave   \n",
       "4  2022-01-01 17:34:11.478          Washington Pl & 6 Ave   \n",
       "\n",
       "          end_station_name  start_lat  start_lng    end_lat    end_lng  \\\n",
       "0  W 87 St & Amsterdam Ave  40.760958 -73.967245  40.788390 -73.974700   \n",
       "1   Albany Ave & Fulton St  40.682601 -73.938037  40.680011 -73.938475   \n",
       "2          8 Ave & W 27 St  40.741740 -73.994156  40.747968 -73.996637   \n",
       "3   West End Ave & W 60 St  40.777480 -73.982886  40.772370 -73.990050   \n",
       "4        E 2 St & Avenue A  40.732241 -74.000264  40.723077 -73.985836   \n",
       "\n",
       "  member_casual  avgTemp  daily_bike_rides  value  \n",
       "0        member     11.6              1028      1  \n",
       "1        member     11.6              1028      1  \n",
       "2        member     11.6              1028      1  \n",
       "3        member     11.6              1028      1  \n",
       "4        member     11.6              1028      1  "
      ]
     },
     "execution_count": 41,
     "metadata": {},
     "output_type": "execute_result"
    }
   ],
   "source": [
    "df.head()"
   ]
  },
  {
   "cell_type": "code",
   "execution_count": 43,
   "id": "40fed2e7-3d2b-40e5-b567-eab5e525d324",
   "metadata": {},
   "outputs": [],
   "source": [
    "#creating a list of just the stations and their coordinates\n",
    "df_stations = df[['start_station_name', 'start_lat', 'start_lng', 'end_station_name', 'end_lat', 'end_lng']]"
   ]
  },
  {
   "cell_type": "code",
   "execution_count": 45,
   "id": "558ac258-d948-4278-be3a-7e10e5ece311",
   "metadata": {},
   "outputs": [
    {
     "data": {
      "text/html": [
       "<div>\n",
       "<style scoped>\n",
       "    .dataframe tbody tr th:only-of-type {\n",
       "        vertical-align: middle;\n",
       "    }\n",
       "\n",
       "    .dataframe tbody tr th {\n",
       "        vertical-align: top;\n",
       "    }\n",
       "\n",
       "    .dataframe thead th {\n",
       "        text-align: right;\n",
       "    }\n",
       "</style>\n",
       "<table border=\"1\" class=\"dataframe\">\n",
       "  <thead>\n",
       "    <tr style=\"text-align: right;\">\n",
       "      <th></th>\n",
       "      <th>start_station_name</th>\n",
       "      <th>start_lat</th>\n",
       "      <th>start_lng</th>\n",
       "      <th>end_station_name</th>\n",
       "      <th>end_lat</th>\n",
       "      <th>end_lng</th>\n",
       "    </tr>\n",
       "  </thead>\n",
       "  <tbody>\n",
       "    <tr>\n",
       "      <th>0</th>\n",
       "      <td>E 58 St &amp; 3 Ave</td>\n",
       "      <td>40.760958</td>\n",
       "      <td>-73.967245</td>\n",
       "      <td>W 87 St &amp; Amsterdam Ave</td>\n",
       "      <td>40.788390</td>\n",
       "      <td>-73.974700</td>\n",
       "    </tr>\n",
       "    <tr>\n",
       "      <th>1</th>\n",
       "      <td>Marcus Garvey Blvd &amp; Macon St</td>\n",
       "      <td>40.682601</td>\n",
       "      <td>-73.938037</td>\n",
       "      <td>Albany Ave &amp; Fulton St</td>\n",
       "      <td>40.680011</td>\n",
       "      <td>-73.938475</td>\n",
       "    </tr>\n",
       "    <tr>\n",
       "      <th>2</th>\n",
       "      <td>W 21 St &amp; 6 Ave</td>\n",
       "      <td>40.741740</td>\n",
       "      <td>-73.994156</td>\n",
       "      <td>8 Ave &amp; W 27 St</td>\n",
       "      <td>40.747968</td>\n",
       "      <td>-73.996637</td>\n",
       "    </tr>\n",
       "    <tr>\n",
       "      <th>3</th>\n",
       "      <td>W 70 St &amp; Amsterdam Ave</td>\n",
       "      <td>40.777480</td>\n",
       "      <td>-73.982886</td>\n",
       "      <td>West End Ave &amp; W 60 St</td>\n",
       "      <td>40.772370</td>\n",
       "      <td>-73.990050</td>\n",
       "    </tr>\n",
       "    <tr>\n",
       "      <th>4</th>\n",
       "      <td>Washington Pl &amp; 6 Ave</td>\n",
       "      <td>40.732241</td>\n",
       "      <td>-74.000264</td>\n",
       "      <td>E 2 St &amp; Avenue A</td>\n",
       "      <td>40.723077</td>\n",
       "      <td>-73.985836</td>\n",
       "    </tr>\n",
       "  </tbody>\n",
       "</table>\n",
       "</div>"
      ],
      "text/plain": [
       "              start_station_name  start_lat  start_lng  \\\n",
       "0                E 58 St & 3 Ave  40.760958 -73.967245   \n",
       "1  Marcus Garvey Blvd & Macon St  40.682601 -73.938037   \n",
       "2                W 21 St & 6 Ave  40.741740 -73.994156   \n",
       "3        W 70 St & Amsterdam Ave  40.777480 -73.982886   \n",
       "4          Washington Pl & 6 Ave  40.732241 -74.000264   \n",
       "\n",
       "          end_station_name    end_lat    end_lng  \n",
       "0  W 87 St & Amsterdam Ave  40.788390 -73.974700  \n",
       "1   Albany Ave & Fulton St  40.680011 -73.938475  \n",
       "2          8 Ave & W 27 St  40.747968 -73.996637  \n",
       "3   West End Ave & W 60 St  40.772370 -73.990050  \n",
       "4        E 2 St & Avenue A  40.723077 -73.985836  "
      ]
     },
     "execution_count": 45,
     "metadata": {},
     "output_type": "execute_result"
    }
   ],
   "source": [
    "df_stations.head()"
   ]
  },
  {
   "cell_type": "code",
   "execution_count": 47,
   "id": "11c284b0-b377-44b2-9233-aa68e04d48a6",
   "metadata": {},
   "outputs": [],
   "source": [
    "df_stations=df_stations.drop_duplicates(subset=['start_station_name', 'end_station_name'])"
   ]
  },
  {
   "cell_type": "code",
   "execution_count": 49,
   "id": "f9039a64-c6bc-470d-a548-50f286b3128a",
   "metadata": {},
   "outputs": [
    {
     "data": {
      "text/html": [
       "<div>\n",
       "<style scoped>\n",
       "    .dataframe tbody tr th:only-of-type {\n",
       "        vertical-align: middle;\n",
       "    }\n",
       "\n",
       "    .dataframe tbody tr th {\n",
       "        vertical-align: top;\n",
       "    }\n",
       "\n",
       "    .dataframe thead th {\n",
       "        text-align: right;\n",
       "    }\n",
       "</style>\n",
       "<table border=\"1\" class=\"dataframe\">\n",
       "  <thead>\n",
       "    <tr style=\"text-align: right;\">\n",
       "      <th></th>\n",
       "      <th>start_station_name</th>\n",
       "      <th>start_lat</th>\n",
       "      <th>start_lng</th>\n",
       "      <th>end_station_name</th>\n",
       "      <th>end_lat</th>\n",
       "      <th>end_lng</th>\n",
       "    </tr>\n",
       "  </thead>\n",
       "  <tbody>\n",
       "    <tr>\n",
       "      <th>0</th>\n",
       "      <td>E 58 St &amp; 3 Ave</td>\n",
       "      <td>40.760958</td>\n",
       "      <td>-73.967245</td>\n",
       "      <td>W 87 St &amp; Amsterdam Ave</td>\n",
       "      <td>40.788390</td>\n",
       "      <td>-73.974700</td>\n",
       "    </tr>\n",
       "    <tr>\n",
       "      <th>1</th>\n",
       "      <td>Marcus Garvey Blvd &amp; Macon St</td>\n",
       "      <td>40.682601</td>\n",
       "      <td>-73.938037</td>\n",
       "      <td>Albany Ave &amp; Fulton St</td>\n",
       "      <td>40.680011</td>\n",
       "      <td>-73.938475</td>\n",
       "    </tr>\n",
       "    <tr>\n",
       "      <th>2</th>\n",
       "      <td>W 21 St &amp; 6 Ave</td>\n",
       "      <td>40.741740</td>\n",
       "      <td>-73.994156</td>\n",
       "      <td>8 Ave &amp; W 27 St</td>\n",
       "      <td>40.747968</td>\n",
       "      <td>-73.996637</td>\n",
       "    </tr>\n",
       "    <tr>\n",
       "      <th>3</th>\n",
       "      <td>W 70 St &amp; Amsterdam Ave</td>\n",
       "      <td>40.777480</td>\n",
       "      <td>-73.982886</td>\n",
       "      <td>West End Ave &amp; W 60 St</td>\n",
       "      <td>40.772370</td>\n",
       "      <td>-73.990050</td>\n",
       "    </tr>\n",
       "    <tr>\n",
       "      <th>4</th>\n",
       "      <td>Washington Pl &amp; 6 Ave</td>\n",
       "      <td>40.732241</td>\n",
       "      <td>-74.000264</td>\n",
       "      <td>E 2 St &amp; Avenue A</td>\n",
       "      <td>40.723077</td>\n",
       "      <td>-73.985836</td>\n",
       "    </tr>\n",
       "  </tbody>\n",
       "</table>\n",
       "</div>"
      ],
      "text/plain": [
       "              start_station_name  start_lat  start_lng  \\\n",
       "0                E 58 St & 3 Ave  40.760958 -73.967245   \n",
       "1  Marcus Garvey Blvd & Macon St  40.682601 -73.938037   \n",
       "2                W 21 St & 6 Ave  40.741740 -73.994156   \n",
       "3        W 70 St & Amsterdam Ave  40.777480 -73.982886   \n",
       "4          Washington Pl & 6 Ave  40.732241 -74.000264   \n",
       "\n",
       "          end_station_name    end_lat    end_lng  \n",
       "0  W 87 St & Amsterdam Ave  40.788390 -73.974700  \n",
       "1   Albany Ave & Fulton St  40.680011 -73.938475  \n",
       "2          8 Ave & W 27 St  40.747968 -73.996637  \n",
       "3   West End Ave & W 60 St  40.772370 -73.990050  \n",
       "4        E 2 St & Avenue A  40.723077 -73.985836  "
      ]
     },
     "execution_count": 49,
     "metadata": {},
     "output_type": "execute_result"
    }
   ],
   "source": [
    "df_stations.head()"
   ]
  },
  {
   "cell_type": "code",
   "execution_count": 51,
   "id": "b3865044-3dc6-4c22-9e24-5ba5f3ddb3ed",
   "metadata": {},
   "outputs": [],
   "source": [
    "df_2 = df_group.merge(df_stations, on = [\"start_station_name\", \"end_station_name\"], how = 'outer',indicator = True)"
   ]
  },
  {
   "cell_type": "code",
   "execution_count": 53,
   "id": "1bd4593c-b9c0-4faf-8cf2-caa68d31f3d5",
   "metadata": {},
   "outputs": [
    {
     "data": {
      "text/html": [
       "<div>\n",
       "<style scoped>\n",
       "    .dataframe tbody tr th:only-of-type {\n",
       "        vertical-align: middle;\n",
       "    }\n",
       "\n",
       "    .dataframe tbody tr th {\n",
       "        vertical-align: top;\n",
       "    }\n",
       "\n",
       "    .dataframe thead th {\n",
       "        text-align: right;\n",
       "    }\n",
       "</style>\n",
       "<table border=\"1\" class=\"dataframe\">\n",
       "  <thead>\n",
       "    <tr style=\"text-align: right;\">\n",
       "      <th></th>\n",
       "      <th>start_station_name</th>\n",
       "      <th>end_station_name</th>\n",
       "      <th>trips</th>\n",
       "      <th>start_lat</th>\n",
       "      <th>start_lng</th>\n",
       "      <th>end_lat</th>\n",
       "      <th>end_lng</th>\n",
       "      <th>_merge</th>\n",
       "    </tr>\n",
       "  </thead>\n",
       "  <tbody>\n",
       "    <tr>\n",
       "      <th>0</th>\n",
       "      <td>1 Ave &amp; E 110 St</td>\n",
       "      <td>1 Ave &amp; E 110 St</td>\n",
       "      <td>3</td>\n",
       "      <td>40.792327</td>\n",
       "      <td>-73.938300</td>\n",
       "      <td>40.792327</td>\n",
       "      <td>-73.938300</td>\n",
       "      <td>both</td>\n",
       "    </tr>\n",
       "    <tr>\n",
       "      <th>1</th>\n",
       "      <td>1 Ave &amp; E 110 St</td>\n",
       "      <td>1 Ave &amp; E 94 St</td>\n",
       "      <td>1</td>\n",
       "      <td>40.792327</td>\n",
       "      <td>-73.938300</td>\n",
       "      <td>40.781721</td>\n",
       "      <td>-73.945940</td>\n",
       "      <td>both</td>\n",
       "    </tr>\n",
       "    <tr>\n",
       "      <th>2</th>\n",
       "      <td>1 Ave &amp; E 110 St</td>\n",
       "      <td>2 Ave &amp; E 104 St</td>\n",
       "      <td>1</td>\n",
       "      <td>40.792375</td>\n",
       "      <td>-73.938088</td>\n",
       "      <td>40.789211</td>\n",
       "      <td>-73.943708</td>\n",
       "      <td>both</td>\n",
       "    </tr>\n",
       "    <tr>\n",
       "      <th>3</th>\n",
       "      <td>1 Ave &amp; E 110 St</td>\n",
       "      <td>2 Ave &amp; E 125 St</td>\n",
       "      <td>1</td>\n",
       "      <td>40.792327</td>\n",
       "      <td>-73.938300</td>\n",
       "      <td>40.802554</td>\n",
       "      <td>-73.933509</td>\n",
       "      <td>both</td>\n",
       "    </tr>\n",
       "    <tr>\n",
       "      <th>4</th>\n",
       "      <td>1 Ave &amp; E 110 St</td>\n",
       "      <td>2 Ave &amp; E 29 St</td>\n",
       "      <td>2</td>\n",
       "      <td>40.792327</td>\n",
       "      <td>-73.938300</td>\n",
       "      <td>40.741724</td>\n",
       "      <td>-73.978093</td>\n",
       "      <td>both</td>\n",
       "    </tr>\n",
       "  </tbody>\n",
       "</table>\n",
       "</div>"
      ],
      "text/plain": [
       "  start_station_name  end_station_name  trips  start_lat  start_lng  \\\n",
       "0   1 Ave & E 110 St  1 Ave & E 110 St      3  40.792327 -73.938300   \n",
       "1   1 Ave & E 110 St   1 Ave & E 94 St      1  40.792327 -73.938300   \n",
       "2   1 Ave & E 110 St  2 Ave & E 104 St      1  40.792375 -73.938088   \n",
       "3   1 Ave & E 110 St  2 Ave & E 125 St      1  40.792327 -73.938300   \n",
       "4   1 Ave & E 110 St   2 Ave & E 29 St      2  40.792327 -73.938300   \n",
       "\n",
       "     end_lat    end_lng _merge  \n",
       "0  40.792327 -73.938300   both  \n",
       "1  40.781721 -73.945940   both  \n",
       "2  40.789211 -73.943708   both  \n",
       "3  40.802554 -73.933509   both  \n",
       "4  40.741724 -73.978093   both  "
      ]
     },
     "execution_count": 53,
     "metadata": {},
     "output_type": "execute_result"
    }
   ],
   "source": [
    "df_2.head()"
   ]
  },
  {
   "cell_type": "code",
   "execution_count": 55,
   "id": "8342efee-0412-4348-b828-6199fb737955",
   "metadata": {},
   "outputs": [
    {
     "data": {
      "text/plain": [
       "_merge\n",
       "both          93835\n",
       "left_only         0\n",
       "right_only        0\n",
       "Name: count, dtype: int64"
      ]
     },
     "execution_count": 55,
     "metadata": {},
     "output_type": "execute_result"
    }
   ],
   "source": [
    "df_2['_merge'].value_counts(dropna = False)"
   ]
  },
  {
   "cell_type": "code",
   "execution_count": 57,
   "id": "4f01d1fb-7808-4d40-8030-216771856066",
   "metadata": {},
   "outputs": [],
   "source": [
    "df_2.to_csv('station_coordinates_and_trips.csv') "
   ]
  },
  {
   "cell_type": "code",
   "execution_count": 59,
   "id": "457db325-c437-4845-b509-1b43e99cdbe5",
   "metadata": {},
   "outputs": [
    {
     "name": "stdout",
     "output_type": "stream",
     "text": [
      "User Guide: https://docs.kepler.gl/docs/keplergl-jupyter\n"
     ]
    }
   ],
   "source": [
    "# initializing a kepler map\n",
    "m = KeplerGl(height = 700, data={\"data_1\": df_2})"
   ]
  },
  {
   "cell_type": "code",
   "execution_count": 61,
   "id": "df7bc7db-a494-4362-a97b-8b7e6c6f9c05",
   "metadata": {},
   "outputs": [
    {
     "data": {
      "application/vnd.jupyter.widget-view+json": {
       "model_id": "33ed08c81c894ae9a3dca1dc730efa08",
       "version_major": 2,
       "version_minor": 0
      },
      "text/plain": [
       "KeplerGl(data={'data_1':           start_station_name         end_station_name  trips  start_lat  \\\n",
       "0         …"
      ]
     },
     "execution_count": 61,
     "metadata": {},
     "output_type": "execute_result"
    }
   ],
   "source": [
    "m"
   ]
  },
  {
   "cell_type": "markdown",
   "id": "7d2edb8c-dd56-4bce-9980-811f8007fb2d",
   "metadata": {},
   "source": [
    "At first, the only layer that was active was the start layer so only the start stations were visible.  I activated the end layer by clicking on the eye icon so that now the end stations were also visible.  I then changed the colors for the start stations and end stations (purple for the start stations and yellow for the end stations) so that it was easier to distinguish between the two.  Prior to this, a color scheme had been applied to the start and end stations, making them various different colors.  Because this assignment is concerned with trips BETWEEN stations, I also activated the third layer (start --> end arc) and chose purple for source, yellow for target. This resulted in a line for each of the trips taken between two stations.  "
   ]
  },
  {
   "cell_type": "markdown",
   "id": "f2707222-25da-4eb7-8af0-547980ae1c26",
   "metadata": {},
   "source": [
    "As I increase the number of trips in the filter, the fewer trips there are outside of Manhattan.  One of most common trips is between West St. & Chambers St. and Pier 40 Hudson Park.  This makes sense because it would take bike riders down along the Hudson River.  Another common bike trip is between Roosevelt Island Tramway and Motorgate on Roosevelt Island.  This makes sense as Roosevelt Island has great views of Manhattan but is much less busy.  Unsuprisingly, some of the most active stations, including THE most active one, are located around Central Park - one of New York's most popular attractions.  "
   ]
  },
  {
   "cell_type": "code",
   "execution_count": 64,
   "id": "e9a817fe-1d43-4aae-b1eb-0df47d128898",
   "metadata": {},
   "outputs": [],
   "source": [
    "config = m.config"
   ]
  },
  {
   "cell_type": "code",
   "execution_count": 66,
   "id": "75f72806-54e2-4f7a-922b-35df9e7e3383",
   "metadata": {
    "collapsed": true,
    "jupyter": {
     "outputs_hidden": true
    }
   },
   "outputs": [
    {
     "data": {
      "text/plain": [
       "{'version': 'v1',\n",
       " 'config': {'visState': {'filters': [{'dataId': ['data_1'],\n",
       "     'id': 'bw4mbbdyh',\n",
       "     'name': ['trips'],\n",
       "     'type': 'range',\n",
       "     'value': [1, 56],\n",
       "     'plotType': 'histogram',\n",
       "     'animationWindow': 'free',\n",
       "     'yAxis': None,\n",
       "     'view': 'side',\n",
       "     'speed': 1,\n",
       "     'enabled': True}],\n",
       "   'layers': [{'id': 'pzj03q8',\n",
       "     'type': 'point',\n",
       "     'config': {'dataId': 'data_1',\n",
       "      'label': 'start',\n",
       "      'color': [122, 13, 166],\n",
       "      'highlightColor': [252, 242, 26, 255],\n",
       "      'columns': {'lat': 'start_lat', 'lng': 'start_lng'},\n",
       "      'isVisible': True,\n",
       "      'visConfig': {'radius': 10,\n",
       "       'fixedRadius': False,\n",
       "       'opacity': 0.8,\n",
       "       'outline': False,\n",
       "       'thickness': 2,\n",
       "       'strokeColor': None,\n",
       "       'colorRange': {'name': 'Global Warming',\n",
       "        'type': 'sequential',\n",
       "        'category': 'Uber',\n",
       "        'colors': ['#5A1846',\n",
       "         '#900C3F',\n",
       "         '#C70039',\n",
       "         '#E3611C',\n",
       "         '#F1920E',\n",
       "         '#FFC300']},\n",
       "       'strokeColorRange': {'name': 'Global Warming',\n",
       "        'type': 'sequential',\n",
       "        'category': 'Uber',\n",
       "        'colors': ['#5A1846',\n",
       "         '#900C3F',\n",
       "         '#C70039',\n",
       "         '#E3611C',\n",
       "         '#F1920E',\n",
       "         '#FFC300']},\n",
       "       'radiusRange': [0, 50],\n",
       "       'filled': True},\n",
       "      'hidden': False,\n",
       "      'textLabel': [{'field': None,\n",
       "        'color': [255, 255, 255],\n",
       "        'size': 18,\n",
       "        'offset': [0, 0],\n",
       "        'anchor': 'start',\n",
       "        'alignment': 'center',\n",
       "        'outlineWidth': 0,\n",
       "        'outlineColor': [255, 0, 0, 255],\n",
       "        'background': False,\n",
       "        'backgroundColor': [0, 0, 200, 255]}]},\n",
       "     'visualChannels': {'colorField': None,\n",
       "      'colorScale': 'quantile',\n",
       "      'strokeColorField': None,\n",
       "      'strokeColorScale': 'quantile',\n",
       "      'sizeField': None,\n",
       "      'sizeScale': 'linear'}},\n",
       "    {'id': 'sv9ysns',\n",
       "     'type': 'point',\n",
       "     'config': {'dataId': 'data_1',\n",
       "      'label': 'end',\n",
       "      'color': [246, 218, 0],\n",
       "      'highlightColor': [252, 242, 26, 255],\n",
       "      'columns': {'lat': 'end_lat', 'lng': 'end_lng'},\n",
       "      'isVisible': True,\n",
       "      'visConfig': {'radius': 10,\n",
       "       'fixedRadius': False,\n",
       "       'opacity': 0.8,\n",
       "       'outline': False,\n",
       "       'thickness': 2,\n",
       "       'strokeColor': None,\n",
       "       'colorRange': {'name': 'Global Warming',\n",
       "        'type': 'sequential',\n",
       "        'category': 'Uber',\n",
       "        'colors': ['#5A1846',\n",
       "         '#900C3F',\n",
       "         '#C70039',\n",
       "         '#E3611C',\n",
       "         '#F1920E',\n",
       "         '#FFC300']},\n",
       "       'strokeColorRange': {'name': 'Global Warming',\n",
       "        'type': 'sequential',\n",
       "        'category': 'Uber',\n",
       "        'colors': ['#5A1846',\n",
       "         '#900C3F',\n",
       "         '#C70039',\n",
       "         '#E3611C',\n",
       "         '#F1920E',\n",
       "         '#FFC300']},\n",
       "       'radiusRange': [0, 50],\n",
       "       'filled': True},\n",
       "      'hidden': False,\n",
       "      'textLabel': [{'field': None,\n",
       "        'color': [255, 255, 255],\n",
       "        'size': 18,\n",
       "        'offset': [0, 0],\n",
       "        'anchor': 'start',\n",
       "        'alignment': 'center',\n",
       "        'outlineWidth': 0,\n",
       "        'outlineColor': [255, 0, 0, 255],\n",
       "        'background': False,\n",
       "        'backgroundColor': [0, 0, 200, 255]}]},\n",
       "     'visualChannels': {'colorField': None,\n",
       "      'colorScale': 'quantile',\n",
       "      'strokeColorField': None,\n",
       "      'strokeColorScale': 'quantile',\n",
       "      'sizeField': None,\n",
       "      'sizeScale': 'linear'}},\n",
       "    {'id': '6q2okbj',\n",
       "     'type': 'arc',\n",
       "     'config': {'dataId': 'data_1',\n",
       "      'label': 'start -> end arc',\n",
       "      'color': [146, 38, 198],\n",
       "      'highlightColor': [252, 242, 26, 255],\n",
       "      'columns': {'lat0': 'start_lat',\n",
       "       'lng0': 'start_lng',\n",
       "       'lat1': 'end_lat',\n",
       "       'lng1': 'end_lng'},\n",
       "      'isVisible': True,\n",
       "      'visConfig': {'opacity': 0.8,\n",
       "       'thickness': 2,\n",
       "       'colorRange': {'name': 'Global Warming',\n",
       "        'type': 'sequential',\n",
       "        'category': 'Uber',\n",
       "        'colors': ['#5A1846',\n",
       "         '#900C3F',\n",
       "         '#C70039',\n",
       "         '#E3611C',\n",
       "         '#F1920E',\n",
       "         '#FFC300']},\n",
       "       'sizeRange': [0, 10],\n",
       "       'targetColor': [250, 227, 0]},\n",
       "      'hidden': False,\n",
       "      'textLabel': [{'field': None,\n",
       "        'color': [255, 255, 255],\n",
       "        'size': 18,\n",
       "        'offset': [0, 0],\n",
       "        'anchor': 'start',\n",
       "        'alignment': 'center',\n",
       "        'outlineWidth': 0,\n",
       "        'outlineColor': [255, 0, 0, 255],\n",
       "        'background': False,\n",
       "        'backgroundColor': [0, 0, 200, 255]}]},\n",
       "     'visualChannels': {'colorField': None,\n",
       "      'colorScale': 'quantile',\n",
       "      'sizeField': None,\n",
       "      'sizeScale': 'linear'}},\n",
       "    {'id': 'fhe5ki7',\n",
       "     'type': 'line',\n",
       "     'config': {'dataId': 'data_1',\n",
       "      'label': 'start -> end line',\n",
       "      'color': [136, 87, 44],\n",
       "      'highlightColor': [252, 242, 26, 255],\n",
       "      'columns': {'lat0': 'start_lat',\n",
       "       'lng0': 'start_lng',\n",
       "       'lat1': 'end_lat',\n",
       "       'lng1': 'end_lng'},\n",
       "      'isVisible': False,\n",
       "      'visConfig': {'opacity': 0.8,\n",
       "       'thickness': 2,\n",
       "       'colorRange': {'name': 'Global Warming',\n",
       "        'type': 'sequential',\n",
       "        'category': 'Uber',\n",
       "        'colors': ['#5A1846',\n",
       "         '#900C3F',\n",
       "         '#C70039',\n",
       "         '#E3611C',\n",
       "         '#F1920E',\n",
       "         '#FFC300']},\n",
       "       'sizeRange': [0, 10],\n",
       "       'targetColor': None,\n",
       "       'elevationScale': 1},\n",
       "      'hidden': False,\n",
       "      'textLabel': [{'field': None,\n",
       "        'color': [255, 255, 255],\n",
       "        'size': 18,\n",
       "        'offset': [0, 0],\n",
       "        'anchor': 'start',\n",
       "        'alignment': 'center',\n",
       "        'outlineWidth': 0,\n",
       "        'outlineColor': [255, 0, 0, 255],\n",
       "        'background': False,\n",
       "        'backgroundColor': [0, 0, 200, 255]}]},\n",
       "     'visualChannels': {'colorField': None,\n",
       "      'colorScale': 'quantile',\n",
       "      'sizeField': None,\n",
       "      'sizeScale': 'linear'}}],\n",
       "   'effects': [],\n",
       "   'interactionConfig': {'tooltip': {'fieldsToShow': {'data_1': [{'name': 'start_station_name',\n",
       "        'format': None},\n",
       "       {'name': 'end_station_name', 'format': None},\n",
       "       {'name': 'trips', 'format': None},\n",
       "       {'name': '_merge', 'format': None}]},\n",
       "     'compareMode': False,\n",
       "     'compareType': 'absolute',\n",
       "     'enabled': True},\n",
       "    'brush': {'size': 0.5, 'enabled': False},\n",
       "    'geocoder': {'enabled': False},\n",
       "    'coordinate': {'enabled': False}},\n",
       "   'layerBlending': 'normal',\n",
       "   'overlayBlending': 'normal',\n",
       "   'splitMaps': [],\n",
       "   'animationConfig': {'currentTime': None, 'speed': 1},\n",
       "   'editor': {'features': [], 'visible': True}},\n",
       "  'mapState': {'bearing': 0,\n",
       "   'dragRotate': False,\n",
       "   'latitude': 40.74036876717558,\n",
       "   'longitude': -74.14790748136481,\n",
       "   'pitch': 0,\n",
       "   'zoom': 9.728605849324556,\n",
       "   'isSplit': False,\n",
       "   'isViewportSynced': True,\n",
       "   'isZoomLocked': False,\n",
       "   'splitMapViewports': []},\n",
       "  'mapStyle': {'styleType': 'dark-matter',\n",
       "   'topLayerGroups': {},\n",
       "   'visibleLayerGroups': {'label': True,\n",
       "    'road': True,\n",
       "    'border': False,\n",
       "    'building': True,\n",
       "    'water': True,\n",
       "    'land': True,\n",
       "    '3d building': False},\n",
       "   'threeDBuildingColor': [15.035172933000911,\n",
       "    15.035172933000911,\n",
       "    15.035172933000911],\n",
       "   'backgroundColor': [0, 0, 0],\n",
       "   'mapStyles': {}}}}"
      ]
     },
     "execution_count": 66,
     "metadata": {},
     "output_type": "execute_result"
    }
   ],
   "source": [
    "config"
   ]
  },
  {
   "cell_type": "code",
   "execution_count": 68,
   "id": "0f7a426e-1e61-4003-96eb-ce702c8a4a66",
   "metadata": {},
   "outputs": [],
   "source": [
    "import json\n",
    "with open(\"config.json\", \"w\") as outfile:\n",
    "    json.dump(config, outfile)"
   ]
  },
  {
   "cell_type": "code",
   "execution_count": 70,
   "id": "01c4b722-7544-4948-be25-fdabc4ebc506",
   "metadata": {},
   "outputs": [
    {
     "name": "stdout",
     "output_type": "stream",
     "text": [
      "Map saved to New_York_Citibike_Trips.html!\n"
     ]
    }
   ],
   "source": [
    "m.save_to_html(file_name = 'New_York_Citibike_Trips.html', read_only = False, config = config)"
   ]
  }
 ],
 "metadata": {
  "kernelspec": {
   "display_name": "Python (New_York_Citibike_2022)",
   "language": "python",
   "name": "new_york_citibike_2022"
  },
  "language_info": {
   "codemirror_mode": {
    "name": "ipython",
    "version": 3
   },
   "file_extension": ".py",
   "mimetype": "text/x-python",
   "name": "python",
   "nbconvert_exporter": "python",
   "pygments_lexer": "ipython3",
   "version": "3.12.3"
  }
 },
 "nbformat": 4,
 "nbformat_minor": 5
}
