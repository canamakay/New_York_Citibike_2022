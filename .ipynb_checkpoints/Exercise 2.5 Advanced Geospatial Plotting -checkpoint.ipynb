{
 "cells": [
  {
   "cell_type": "markdown",
   "id": "3b5e3471-944f-4df1-b10f-1b0fdcc6b939",
   "metadata": {},
   "source": [
    "## Exercise 2.5 Advanced Geospatial Mapping "
   ]
  },
  {
   "cell_type": "code",
   "execution_count": 206,
   "id": "f0065ba7-7a59-4d13-8230-827af3c8715c",
   "metadata": {},
   "outputs": [],
   "source": [
    "#importing libraries\n",
    "import pandas as pd\n",
    "import os\n",
    "from keplergl import KeplerGl\n",
    "from pyproj import CRS\n",
    "import numpy as np\n",
    "from matplotlib import pyplot as plt"
   ]
  },
  {
   "cell_type": "code",
   "execution_count": 207,
   "id": "4e756f4c-c4f8-40f2-9a31-bf5a27258e5b",
   "metadata": {},
   "outputs": [
    {
     "name": "stderr",
     "output_type": "stream",
     "text": [
      "C:\\Users\\canam\\AppData\\Local\\Temp\\ipykernel_11868\\1142865059.py:1: DtypeWarning: Columns (6,8) have mixed types. Specify dtype option on import or set low_memory=False.\n",
      "  df = pd.read_csv('weather_and_daily_bike_rides_data.csv', index_col = 0)\n"
     ]
    }
   ],
   "source": [
    "df = pd.read_csv('weather_and_daily_bike_rides_data.csv', index_col = 0)"
   ]
  },
  {
   "cell_type": "code",
   "execution_count": 208,
   "id": "c3120ea9-1155-4158-adc9-67f30d254172",
   "metadata": {},
   "outputs": [
    {
     "data": {
      "text/plain": [
       "(2983817, 16)"
      ]
     },
     "execution_count": 208,
     "metadata": {},
     "output_type": "execute_result"
    }
   ],
   "source": [
    "df.shape"
   ]
  },
  {
   "cell_type": "code",
   "execution_count": 209,
   "id": "ae9163a0-ad1a-4c95-a9e2-b003dce81fa0",
   "metadata": {},
   "outputs": [
    {
     "data": {
      "text/plain": [
       "Index(['ride_id', 'rideable_type', 'started_at', 'ended_at',\n",
       "       'start_station_name', 'start_station_id', 'end_station_name',\n",
       "       'end_station_id', 'start_lat', 'start_lng', 'end_lat', 'end_lng',\n",
       "       'member_casual', 'avgTemp', 'daily_bike_rides', '_merge'],\n",
       "      dtype='object')"
      ]
     },
     "execution_count": 209,
     "metadata": {},
     "output_type": "execute_result"
    }
   ],
   "source": [
    "df.columns"
   ]
  },
  {
   "cell_type": "markdown",
   "id": "4af2e0d3-7b4d-427b-b414-1df121a03ce0",
   "metadata": {},
   "source": [
    "## Data Preprocessing"
   ]
  },
  {
   "cell_type": "code",
   "execution_count": 211,
   "id": "53d13339-83dd-45c8-b9fd-d21562cf958e",
   "metadata": {},
   "outputs": [
    {
     "data": {
      "text/plain": [
       "ride_id                  0\n",
       "rideable_type            0\n",
       "started_at               0\n",
       "ended_at                 0\n",
       "start_station_name       7\n",
       "start_station_id         7\n",
       "end_station_name      6885\n",
       "end_station_id        6885\n",
       "start_lat                0\n",
       "start_lng                0\n",
       "end_lat               3647\n",
       "end_lng               3647\n",
       "member_casual            0\n",
       "avgTemp                  0\n",
       "daily_bike_rides         0\n",
       "_merge                   0\n",
       "dtype: int64"
      ]
     },
     "execution_count": 211,
     "metadata": {},
     "output_type": "execute_result"
    }
   ],
   "source": [
    "#finding missing values\n",
    "df.isnull().sum()"
   ]
  },
  {
   "cell_type": "code",
   "execution_count": 212,
   "id": "6b81967c-aacb-4c2a-a1c0-82b1ff2f6d01",
   "metadata": {},
   "outputs": [],
   "source": [
    "#creating a new df with no missing values\n",
    "df.dropna(inplace = True)"
   ]
  },
  {
   "cell_type": "code",
   "execution_count": 213,
   "id": "9b8beec4-51d2-4656-920e-adc37b4f7c62",
   "metadata": {},
   "outputs": [
    {
     "data": {
      "text/plain": [
       "(2976932, 16)"
      ]
     },
     "execution_count": 213,
     "metadata": {},
     "output_type": "execute_result"
    }
   ],
   "source": [
    "df.shape"
   ]
  },
  {
   "cell_type": "code",
   "execution_count": 214,
   "id": "44d34f28-c9f4-4dff-9281-bccd338b72ca",
   "metadata": {},
   "outputs": [],
   "source": [
    "df['value'] = 1"
   ]
  },
  {
   "cell_type": "code",
   "execution_count": 215,
   "id": "5090f466-2e8b-470d-a046-70915efc0efd",
   "metadata": {},
   "outputs": [],
   "source": [
    "df_group = df.groupby(['start_station_name', 'end_station_name'])['value'].count().reset_index()"
   ]
  },
  {
   "cell_type": "code",
   "execution_count": 216,
   "id": "5a60e0b4-44ca-483a-9e92-e73a2d137a0d",
   "metadata": {
    "scrolled": true
   },
   "outputs": [
    {
     "data": {
      "text/html": [
       "<div>\n",
       "<style scoped>\n",
       "    .dataframe tbody tr th:only-of-type {\n",
       "        vertical-align: middle;\n",
       "    }\n",
       "\n",
       "    .dataframe tbody tr th {\n",
       "        vertical-align: top;\n",
       "    }\n",
       "\n",
       "    .dataframe thead th {\n",
       "        text-align: right;\n",
       "    }\n",
       "</style>\n",
       "<table border=\"1\" class=\"dataframe\">\n",
       "  <thead>\n",
       "    <tr style=\"text-align: right;\">\n",
       "      <th></th>\n",
       "      <th>start_station_name</th>\n",
       "      <th>end_station_name</th>\n",
       "      <th>value</th>\n",
       "    </tr>\n",
       "  </thead>\n",
       "  <tbody>\n",
       "    <tr>\n",
       "      <th>0</th>\n",
       "      <td>1 Ave &amp; E 110 St</td>\n",
       "      <td>1 Ave &amp; E 110 St</td>\n",
       "      <td>84</td>\n",
       "    </tr>\n",
       "    <tr>\n",
       "      <th>1</th>\n",
       "      <td>1 Ave &amp; E 110 St</td>\n",
       "      <td>1 Ave &amp; E 30 St</td>\n",
       "      <td>1</td>\n",
       "    </tr>\n",
       "    <tr>\n",
       "      <th>2</th>\n",
       "      <td>1 Ave &amp; E 110 St</td>\n",
       "      <td>1 Ave &amp; E 44 St</td>\n",
       "      <td>1</td>\n",
       "    </tr>\n",
       "    <tr>\n",
       "      <th>3</th>\n",
       "      <td>1 Ave &amp; E 110 St</td>\n",
       "      <td>1 Ave &amp; E 62 St</td>\n",
       "      <td>4</td>\n",
       "    </tr>\n",
       "    <tr>\n",
       "      <th>4</th>\n",
       "      <td>1 Ave &amp; E 110 St</td>\n",
       "      <td>1 Ave &amp; E 68 St</td>\n",
       "      <td>4</td>\n",
       "    </tr>\n",
       "    <tr>\n",
       "      <th>...</th>\n",
       "      <td>...</td>\n",
       "      <td>...</td>\n",
       "      <td>...</td>\n",
       "    </tr>\n",
       "    <tr>\n",
       "      <th>472971</th>\n",
       "      <td>Yankee Ferry Terminal</td>\n",
       "      <td>South St &amp; Whitehall St</td>\n",
       "      <td>10</td>\n",
       "    </tr>\n",
       "    <tr>\n",
       "      <th>472972</th>\n",
       "      <td>Yankee Ferry Terminal</td>\n",
       "      <td>Water St &amp; Main St</td>\n",
       "      <td>3</td>\n",
       "    </tr>\n",
       "    <tr>\n",
       "      <th>472973</th>\n",
       "      <td>Yankee Ferry Terminal</td>\n",
       "      <td>West St &amp; Chambers St</td>\n",
       "      <td>2</td>\n",
       "    </tr>\n",
       "    <tr>\n",
       "      <th>472974</th>\n",
       "      <td>Yankee Ferry Terminal</td>\n",
       "      <td>West St &amp; Liberty St</td>\n",
       "      <td>1</td>\n",
       "    </tr>\n",
       "    <tr>\n",
       "      <th>472975</th>\n",
       "      <td>Yankee Ferry Terminal</td>\n",
       "      <td>Yankee Ferry Terminal</td>\n",
       "      <td>604</td>\n",
       "    </tr>\n",
       "  </tbody>\n",
       "</table>\n",
       "<p>472976 rows × 3 columns</p>\n",
       "</div>"
      ],
      "text/plain": [
       "           start_station_name         end_station_name  value\n",
       "0            1 Ave & E 110 St         1 Ave & E 110 St     84\n",
       "1            1 Ave & E 110 St          1 Ave & E 30 St      1\n",
       "2            1 Ave & E 110 St          1 Ave & E 44 St      1\n",
       "3            1 Ave & E 110 St          1 Ave & E 62 St      4\n",
       "4            1 Ave & E 110 St          1 Ave & E 68 St      4\n",
       "...                       ...                      ...    ...\n",
       "472971  Yankee Ferry Terminal  South St & Whitehall St     10\n",
       "472972  Yankee Ferry Terminal       Water St & Main St      3\n",
       "472973  Yankee Ferry Terminal    West St & Chambers St      2\n",
       "472974  Yankee Ferry Terminal     West St & Liberty St      1\n",
       "472975  Yankee Ferry Terminal    Yankee Ferry Terminal    604\n",
       "\n",
       "[472976 rows x 3 columns]"
      ]
     },
     "execution_count": 216,
     "metadata": {},
     "output_type": "execute_result"
    }
   ],
   "source": [
    "df_group"
   ]
  },
  {
   "cell_type": "code",
   "execution_count": 217,
   "id": "571efad7-57b9-4a3e-a849-2ba8566ae836",
   "metadata": {},
   "outputs": [
    {
     "name": "stdout",
     "output_type": "stream",
     "text": [
      "2976932\n",
      "(2976932, 17)\n"
     ]
    }
   ],
   "source": [
    "#comparing the sum of the value column with the total number of rows to see if they match \n",
    "#if so, the groupby function has been done correctly\n",
    "print(df_group['value'].sum())\n",
    "print(df.shape)"
   ]
  },
  {
   "cell_type": "code",
   "execution_count": 218,
   "id": "61662dee-1856-42ba-9d8b-d4f8b8796c89",
   "metadata": {},
   "outputs": [],
   "source": [
    "df_group.rename(columns = {'value' : 'trips'}, inplace = True)"
   ]
  },
  {
   "cell_type": "code",
   "execution_count": 219,
   "id": "3c3fadc7-194d-475b-9bb0-f821e648b936",
   "metadata": {},
   "outputs": [
    {
     "data": {
      "text/plain": [
       "trips\n",
       "1       190499\n",
       "2        72377\n",
       "3        41275\n",
       "4        27246\n",
       "5        19733\n",
       "         ...  \n",
       "1155         1\n",
       "335          1\n",
       "383          1\n",
       "275          1\n",
       "604          1\n",
       "Name: count, Length: 343, dtype: int64"
      ]
     },
     "execution_count": 219,
     "metadata": {},
     "output_type": "execute_result"
    }
   ],
   "source": [
    "df_group['trips'].sort_index().value_counts()"
   ]
  },
  {
   "cell_type": "code",
   "execution_count": 220,
   "id": "61caf900-72ae-4d80-a2af-18a621230d3d",
   "metadata": {},
   "outputs": [],
   "source": [
    "df_group.to_csv('trip_data.csv')"
   ]
  },
  {
   "cell_type": "code",
   "execution_count": 221,
   "id": "f4b4a795-e169-47e2-83d5-aabf8c3a577f",
   "metadata": {},
   "outputs": [
    {
     "data": {
      "text/html": [
       "<div>\n",
       "<style scoped>\n",
       "    .dataframe tbody tr th:only-of-type {\n",
       "        vertical-align: middle;\n",
       "    }\n",
       "\n",
       "    .dataframe tbody tr th {\n",
       "        vertical-align: top;\n",
       "    }\n",
       "\n",
       "    .dataframe thead th {\n",
       "        text-align: right;\n",
       "    }\n",
       "</style>\n",
       "<table border=\"1\" class=\"dataframe\">\n",
       "  <thead>\n",
       "    <tr style=\"text-align: right;\">\n",
       "      <th></th>\n",
       "      <th>start_station_name</th>\n",
       "      <th>end_station_name</th>\n",
       "      <th>trips</th>\n",
       "    </tr>\n",
       "  </thead>\n",
       "  <tbody>\n",
       "    <tr>\n",
       "      <th>0</th>\n",
       "      <td>1 Ave &amp; E 110 St</td>\n",
       "      <td>1 Ave &amp; E 110 St</td>\n",
       "      <td>84</td>\n",
       "    </tr>\n",
       "    <tr>\n",
       "      <th>1</th>\n",
       "      <td>1 Ave &amp; E 110 St</td>\n",
       "      <td>1 Ave &amp; E 30 St</td>\n",
       "      <td>1</td>\n",
       "    </tr>\n",
       "    <tr>\n",
       "      <th>2</th>\n",
       "      <td>1 Ave &amp; E 110 St</td>\n",
       "      <td>1 Ave &amp; E 44 St</td>\n",
       "      <td>1</td>\n",
       "    </tr>\n",
       "    <tr>\n",
       "      <th>3</th>\n",
       "      <td>1 Ave &amp; E 110 St</td>\n",
       "      <td>1 Ave &amp; E 62 St</td>\n",
       "      <td>4</td>\n",
       "    </tr>\n",
       "    <tr>\n",
       "      <th>4</th>\n",
       "      <td>1 Ave &amp; E 110 St</td>\n",
       "      <td>1 Ave &amp; E 68 St</td>\n",
       "      <td>4</td>\n",
       "    </tr>\n",
       "  </tbody>\n",
       "</table>\n",
       "</div>"
      ],
      "text/plain": [
       "  start_station_name  end_station_name  trips\n",
       "0   1 Ave & E 110 St  1 Ave & E 110 St     84\n",
       "1   1 Ave & E 110 St   1 Ave & E 30 St      1\n",
       "2   1 Ave & E 110 St   1 Ave & E 44 St      1\n",
       "3   1 Ave & E 110 St   1 Ave & E 62 St      4\n",
       "4   1 Ave & E 110 St   1 Ave & E 68 St      4"
      ]
     },
     "execution_count": 221,
     "metadata": {},
     "output_type": "execute_result"
    }
   ],
   "source": [
    "df_group.head()"
   ]
  },
  {
   "cell_type": "code",
   "execution_count": 222,
   "id": "f8808122-3a65-438d-a7b9-93cb7d0f1fa0",
   "metadata": {},
   "outputs": [],
   "source": [
    "df.to_csv('weather_and_daily_bike_rides_data_2.csv')"
   ]
  },
  {
   "cell_type": "code",
   "execution_count": 252,
   "id": "d85b1a3c-38a1-441b-83a1-355f2de13d3f",
   "metadata": {
    "scrolled": true
   },
   "outputs": [
    {
     "name": "stdout",
     "output_type": "stream",
     "text": [
      "User Guide: https://docs.kepler.gl/docs/keplergl-jupyter\n"
     ]
    }
   ],
   "source": [
    "# initializing a kepler map\n",
    "m = KeplerGl(height = 700, data={\"data_1\": df})"
   ]
  },
  {
   "cell_type": "code",
   "execution_count": 256,
   "id": "947d7658-cb51-45c8-8a44-714464b39a49",
   "metadata": {},
   "outputs": [
    {
     "data": {
      "application/vnd.jupyter.widget-view+json": {
       "model_id": "79b5c0c98bae411183a90969879e2e34",
       "version_major": 2,
       "version_minor": 0
      },
      "text/plain": [
       "KeplerGl(data={'data_1':                      ride_id  rideable_type               started_at  \\\n",
       "date         …"
      ]
     },
     "execution_count": 256,
     "metadata": {},
     "output_type": "execute_result"
    }
   ],
   "source": [
    "m"
   ]
  }
 ],
 "metadata": {
  "kernelspec": {
   "display_name": "Python (New_York_Citibike_2022)",
   "language": "python",
   "name": "new_york_citibike_2022"
  },
  "language_info": {
   "codemirror_mode": {
    "name": "ipython",
    "version": 3
   },
   "file_extension": ".py",
   "mimetype": "text/x-python",
   "name": "python",
   "nbconvert_exporter": "python",
   "pygments_lexer": "ipython3",
   "version": "3.12.3"
  }
 },
 "nbformat": 4,
 "nbformat_minor": 5
}
