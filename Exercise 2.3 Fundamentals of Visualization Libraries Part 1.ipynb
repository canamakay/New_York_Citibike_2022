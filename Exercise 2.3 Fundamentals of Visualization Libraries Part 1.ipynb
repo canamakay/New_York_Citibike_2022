{
 "cells": [
  {
   "cell_type": "markdown",
   "id": "0116535f-9311-4a47-a7f8-740d0bc91fd1",
   "metadata": {},
   "source": [
    "# Exercise 2.3 Fundamentals of Visualization libraries Part 1 ß Matplotlib"
   ]
  },
  {
   "cell_type": "code",
   "execution_count": 96,
   "id": "b277f528-10f6-4253-bdf9-763d0c145fda",
   "metadata": {},
   "outputs": [],
   "source": [
    "#importing libraries\n",
    "import pandas as pd\n",
    "from matplotlib import pyplot as plt\n",
    "import numpy as np\n",
    "from datetime import datetime as dt"
   ]
  },
  {
   "cell_type": "code",
   "execution_count": 97,
   "id": "89bd5f83-d2a3-4c28-a31e-c3f058b3700a",
   "metadata": {},
   "outputs": [
    {
     "data": {
      "text/plain": [
       "'3.8.4'"
      ]
     },
     "execution_count": 97,
     "metadata": {},
     "output_type": "execute_result"
    }
   ],
   "source": [
    "import matplotlib\n",
    "matplotlib.__version__"
   ]
  },
  {
   "cell_type": "code",
   "execution_count": 98,
   "id": "7f8c537c-5677-48c9-af72-23df4c239f58",
   "metadata": {},
   "outputs": [
    {
     "name": "stderr",
     "output_type": "stream",
     "text": [
      "C:\\Users\\canam\\AppData\\Local\\Temp\\ipykernel_5352\\1248129452.py:2: DtypeWarning: Columns (6,8) have mixed types. Specify dtype option on import or set low_memory=False.\n",
      "  df = pd.read_csv('weather_and_daily_bike_rides_data.csv', index_col = 0)\n"
     ]
    }
   ],
   "source": [
    "#df = pd.read_csv('new_york_citibike_2022_data.csv', index_col = 0)\n",
    "df = pd.read_csv('weather_and_daily_bike_rides_data.csv', index_col = 0)"
   ]
  },
  {
   "cell_type": "code",
   "execution_count": 99,
   "id": "74ee1b6a-77ef-4890-a2be-c03e33817509",
   "metadata": {},
   "outputs": [
    {
     "data": {
      "text/plain": [
       "(1491908, 16)"
      ]
     },
     "execution_count": 99,
     "metadata": {},
     "output_type": "execute_result"
    }
   ],
   "source": [
    "#checking shape of dataframe to make sure \n",
    "#it matches what was exported in previous exercise\n",
    "df.shape"
   ]
  },
  {
   "cell_type": "code",
   "execution_count": 100,
   "id": "438a31a5-72dc-40f3-8b9a-c3492b3fdf26",
   "metadata": {},
   "outputs": [
    {
     "data": {
      "text/plain": [
       "Index(['ride_id', 'rideable_type', 'started_at', 'ended_at',\n",
       "       'start_station_name', 'start_station_id', 'end_station_name',\n",
       "       'end_station_id', 'start_lat', 'start_lng', 'end_lat', 'end_lng',\n",
       "       'member_casual', 'avgTemp', 'daily_bike_rides', '_merge'],\n",
       "      dtype='object')"
      ]
     },
     "execution_count": 100,
     "metadata": {},
     "output_type": "execute_result"
    }
   ],
   "source": [
    "#checking the columns\n",
    "df.columns"
   ]
  },
  {
   "cell_type": "code",
   "execution_count": 101,
   "id": "9ab48b93-1bf5-46c2-b742-68dbd7341c8c",
   "metadata": {},
   "outputs": [],
   "source": [
    "#dropping the _merge column\n",
    "df = df.drop(['_merge', 'daily_bike_rides'], axis=1)"
   ]
  },
  {
   "cell_type": "code",
   "execution_count": 102,
   "id": "929495a5-1101-4095-b2d6-2cea416f7871",
   "metadata": {},
   "outputs": [
    {
     "data": {
      "text/plain": [
       "Index(['ride_id', 'rideable_type', 'started_at', 'ended_at',\n",
       "       'start_station_name', 'start_station_id', 'end_station_name',\n",
       "       'end_station_id', 'start_lat', 'start_lng', 'end_lat', 'end_lng',\n",
       "       'member_casual', 'avgTemp'],\n",
       "      dtype='object')"
      ]
     },
     "execution_count": 102,
     "metadata": {},
     "output_type": "execute_result"
    }
   ],
   "source": [
    "#checking to see if column was dropped\n",
    "df.columns"
   ]
  },
  {
   "cell_type": "code",
   "execution_count": 103,
   "id": "17535d63-5fad-4eac-bc31-ed7b27badec5",
   "metadata": {},
   "outputs": [
    {
     "data": {
      "text/plain": [
       "(1491908, 14)"
      ]
     },
     "execution_count": 103,
     "metadata": {},
     "output_type": "execute_result"
    }
   ],
   "source": [
    "#checking shape of dataframe\n",
    "df.shape"
   ]
  },
  {
   "cell_type": "code",
   "execution_count": 104,
   "id": "a49fd885-b87c-4c88-afc7-1aecbd38e3d5",
   "metadata": {},
   "outputs": [
    {
     "data": {
      "text/plain": [
       "ride_id                object\n",
       "rideable_type          object\n",
       "started_at             object\n",
       "ended_at               object\n",
       "start_station_name     object\n",
       "start_station_id       object\n",
       "end_station_name       object\n",
       "end_station_id         object\n",
       "start_lat             float64\n",
       "start_lng             float64\n",
       "end_lat               float64\n",
       "end_lng               float64\n",
       "member_casual          object\n",
       "avgTemp               float64\n",
       "dtype: object"
      ]
     },
     "execution_count": 104,
     "metadata": {},
     "output_type": "execute_result"
    }
   ],
   "source": [
    "#checking data types \n",
    "df.dtypes"
   ]
  },
  {
   "cell_type": "code",
   "execution_count": 105,
   "id": "ab9609ec-c485-4215-9d28-c1dd635db238",
   "metadata": {},
   "outputs": [],
   "source": [
    "#changing date format to datetime format\n",
    "df = df.reset_index()\n",
    "df['date'] = pd.to_datetime(df['date'])"
   ]
  },
  {
   "cell_type": "code",
   "execution_count": 106,
   "id": "a8e14cc8-645a-4ec9-a034-07483b560c34",
   "metadata": {},
   "outputs": [
    {
     "data": {
      "text/plain": [
       "date                  datetime64[ns]\n",
       "ride_id                       object\n",
       "rideable_type                 object\n",
       "started_at                    object\n",
       "ended_at                      object\n",
       "start_station_name            object\n",
       "start_station_id              object\n",
       "end_station_name              object\n",
       "end_station_id                object\n",
       "start_lat                    float64\n",
       "start_lng                    float64\n",
       "end_lat                      float64\n",
       "end_lng                      float64\n",
       "member_casual                 object\n",
       "avgTemp                      float64\n",
       "dtype: object"
      ]
     },
     "execution_count": 106,
     "metadata": {},
     "output_type": "execute_result"
    }
   ],
   "source": [
    "#checking to see that it has been changed\n",
    "df.dtypes"
   ]
  },
  {
   "cell_type": "markdown",
   "id": "85128441-2d1f-4c52-b791-ec5849a8ffd8",
   "metadata": {},
   "source": [
    "## Plotting with pandas"
   ]
  },
  {
   "cell_type": "code",
   "execution_count": 108,
   "id": "a674d187-48f5-4229-b3c5-71b7b78e8882",
   "metadata": {},
   "outputs": [],
   "source": [
    "#creating dataframe with date as the index\n",
    "df_temp = df.set_index('date')"
   ]
  },
  {
   "cell_type": "code",
   "execution_count": 109,
   "id": "a40a8ac5-5bcd-4855-8133-ae0e2c411c0f",
   "metadata": {
    "scrolled": true
   },
   "outputs": [
    {
     "data": {
      "text/html": [
       "<div>\n",
       "<style scoped>\n",
       "    .dataframe tbody tr th:only-of-type {\n",
       "        vertical-align: middle;\n",
       "    }\n",
       "\n",
       "    .dataframe tbody tr th {\n",
       "        vertical-align: top;\n",
       "    }\n",
       "\n",
       "    .dataframe thead th {\n",
       "        text-align: right;\n",
       "    }\n",
       "</style>\n",
       "<table border=\"1\" class=\"dataframe\">\n",
       "  <thead>\n",
       "    <tr style=\"text-align: right;\">\n",
       "      <th></th>\n",
       "      <th>ride_id</th>\n",
       "      <th>rideable_type</th>\n",
       "      <th>started_at</th>\n",
       "      <th>ended_at</th>\n",
       "      <th>start_station_name</th>\n",
       "      <th>start_station_id</th>\n",
       "      <th>end_station_name</th>\n",
       "      <th>end_station_id</th>\n",
       "      <th>start_lat</th>\n",
       "      <th>start_lng</th>\n",
       "      <th>end_lat</th>\n",
       "      <th>end_lng</th>\n",
       "      <th>member_casual</th>\n",
       "      <th>avgTemp</th>\n",
       "    </tr>\n",
       "    <tr>\n",
       "      <th>date</th>\n",
       "      <th></th>\n",
       "      <th></th>\n",
       "      <th></th>\n",
       "      <th></th>\n",
       "      <th></th>\n",
       "      <th></th>\n",
       "      <th></th>\n",
       "      <th></th>\n",
       "      <th></th>\n",
       "      <th></th>\n",
       "      <th></th>\n",
       "      <th></th>\n",
       "      <th></th>\n",
       "      <th></th>\n",
       "    </tr>\n",
       "  </thead>\n",
       "  <tbody>\n",
       "    <tr>\n",
       "      <th>2022-01-01</th>\n",
       "      <td>4358B9E87D6D7A16</td>\n",
       "      <td>classic_bike</td>\n",
       "      <td>2022-01-01 14:54:02.879</td>\n",
       "      <td>2022-01-01 15:03:11.662</td>\n",
       "      <td>35 St &amp; 21 Ave</td>\n",
       "      <td>7170.04</td>\n",
       "      <td>31 St &amp; 21 Ave</td>\n",
       "      <td>7202.07</td>\n",
       "      <td>40.776745</td>\n",
       "      <td>-73.906558</td>\n",
       "      <td>40.778130</td>\n",
       "      <td>-73.908420</td>\n",
       "      <td>member</td>\n",
       "      <td>11.6</td>\n",
       "    </tr>\n",
       "    <tr>\n",
       "      <th>2022-01-01</th>\n",
       "      <td>38B902A7913496FB</td>\n",
       "      <td>classic_bike</td>\n",
       "      <td>2022-01-01 14:16:55.828</td>\n",
       "      <td>2022-01-01 14:36:57.086</td>\n",
       "      <td>E 32 St &amp; Park Ave</td>\n",
       "      <td>6280.12</td>\n",
       "      <td>Bleecker St &amp; Crosby St</td>\n",
       "      <td>5679.08</td>\n",
       "      <td>40.745712</td>\n",
       "      <td>-73.981948</td>\n",
       "      <td>40.726156</td>\n",
       "      <td>-73.995102</td>\n",
       "      <td>member</td>\n",
       "      <td>11.6</td>\n",
       "    </tr>\n",
       "    <tr>\n",
       "      <th>2022-01-01</th>\n",
       "      <td>43DD38318BC7164E</td>\n",
       "      <td>classic_bike</td>\n",
       "      <td>2022-01-01 15:02:57.752</td>\n",
       "      <td>2022-01-01 15:05:15.432</td>\n",
       "      <td>Front St &amp; Washington St</td>\n",
       "      <td>4936.01</td>\n",
       "      <td>Cadman Plaza E &amp; Red Cross Pl</td>\n",
       "      <td>4821.06</td>\n",
       "      <td>40.702551</td>\n",
       "      <td>-73.989402</td>\n",
       "      <td>40.699918</td>\n",
       "      <td>-73.989718</td>\n",
       "      <td>member</td>\n",
       "      <td>11.6</td>\n",
       "    </tr>\n",
       "    <tr>\n",
       "      <th>2022-01-01</th>\n",
       "      <td>A74287183A50FD7B</td>\n",
       "      <td>classic_bike</td>\n",
       "      <td>2022-01-01 06:09:55.182</td>\n",
       "      <td>2022-01-01 06:13:50.673</td>\n",
       "      <td>Bergen Ave &amp; E 152 St</td>\n",
       "      <td>7858.02</td>\n",
       "      <td>Willis Ave &amp; E 141 St</td>\n",
       "      <td>7759.08</td>\n",
       "      <td>40.817166</td>\n",
       "      <td>-73.914737</td>\n",
       "      <td>40.810930</td>\n",
       "      <td>-73.921606</td>\n",
       "      <td>member</td>\n",
       "      <td>11.6</td>\n",
       "    </tr>\n",
       "    <tr>\n",
       "      <th>2022-01-01</th>\n",
       "      <td>111FDEBA5E422B14</td>\n",
       "      <td>classic_bike</td>\n",
       "      <td>2022-01-01 15:22:00.906</td>\n",
       "      <td>2022-01-01 15:27:44.046</td>\n",
       "      <td>Lexington Ave &amp; E 29 St</td>\n",
       "      <td>6164.09</td>\n",
       "      <td>Lexington Ave &amp; E 29 St</td>\n",
       "      <td>6164.09</td>\n",
       "      <td>40.743116</td>\n",
       "      <td>-73.982154</td>\n",
       "      <td>40.743116</td>\n",
       "      <td>-73.982154</td>\n",
       "      <td>casual</td>\n",
       "      <td>11.6</td>\n",
       "    </tr>\n",
       "  </tbody>\n",
       "</table>\n",
       "</div>"
      ],
      "text/plain": [
       "                     ride_id rideable_type               started_at  \\\n",
       "date                                                                  \n",
       "2022-01-01  4358B9E87D6D7A16  classic_bike  2022-01-01 14:54:02.879   \n",
       "2022-01-01  38B902A7913496FB  classic_bike  2022-01-01 14:16:55.828   \n",
       "2022-01-01  43DD38318BC7164E  classic_bike  2022-01-01 15:02:57.752   \n",
       "2022-01-01  A74287183A50FD7B  classic_bike  2022-01-01 06:09:55.182   \n",
       "2022-01-01  111FDEBA5E422B14  classic_bike  2022-01-01 15:22:00.906   \n",
       "\n",
       "                           ended_at        start_station_name  \\\n",
       "date                                                            \n",
       "2022-01-01  2022-01-01 15:03:11.662            35 St & 21 Ave   \n",
       "2022-01-01  2022-01-01 14:36:57.086        E 32 St & Park Ave   \n",
       "2022-01-01  2022-01-01 15:05:15.432  Front St & Washington St   \n",
       "2022-01-01  2022-01-01 06:13:50.673     Bergen Ave & E 152 St   \n",
       "2022-01-01  2022-01-01 15:27:44.046   Lexington Ave & E 29 St   \n",
       "\n",
       "           start_station_id               end_station_name end_station_id  \\\n",
       "date                                                                        \n",
       "2022-01-01          7170.04                 31 St & 21 Ave        7202.07   \n",
       "2022-01-01          6280.12        Bleecker St & Crosby St        5679.08   \n",
       "2022-01-01          4936.01  Cadman Plaza E & Red Cross Pl        4821.06   \n",
       "2022-01-01          7858.02          Willis Ave & E 141 St        7759.08   \n",
       "2022-01-01          6164.09        Lexington Ave & E 29 St        6164.09   \n",
       "\n",
       "            start_lat  start_lng    end_lat    end_lng member_casual  avgTemp  \n",
       "date                                                                           \n",
       "2022-01-01  40.776745 -73.906558  40.778130 -73.908420        member     11.6  \n",
       "2022-01-01  40.745712 -73.981948  40.726156 -73.995102        member     11.6  \n",
       "2022-01-01  40.702551 -73.989402  40.699918 -73.989718        member     11.6  \n",
       "2022-01-01  40.817166 -73.914737  40.810930 -73.921606        member     11.6  \n",
       "2022-01-01  40.743116 -73.982154  40.743116 -73.982154        casual     11.6  "
      ]
     },
     "execution_count": 109,
     "metadata": {},
     "output_type": "execute_result"
    }
   ],
   "source": [
    "#checking to see if date is now the index\n",
    "df_temp.head()"
   ]
  },
  {
   "cell_type": "code",
   "execution_count": 110,
   "id": "e1ae5b37-c33a-4914-aa91-d6acf53a85c9",
   "metadata": {},
   "outputs": [],
   "source": [
    "df_temp = df_temp.sort_index()"
   ]
  },
  {
   "cell_type": "code",
   "execution_count": 111,
   "id": "85ca5e9c-ed58-4924-9d35-eee26f9d9fce",
   "metadata": {},
   "outputs": [
    {
     "data": {
      "text/plain": [
       "<Axes: xlabel='date'>"
      ]
     },
     "execution_count": 111,
     "metadata": {},
     "output_type": "execute_result"
    },
    {
     "data": {
      "image/png": "[encoded data removed]",
      "text/plain": [
       "<Figure size 640x480 with 1 Axes>"
      ]
     },
     "metadata": {},
     "output_type": "display_data"
    }
   ],
   "source": [
    "df_temp['avgTemp'].plot()"
   ]
  },
  {
   "cell_type": "markdown",
   "id": "7205d907-f47b-4d1f-8a2c-37514567b4c3",
   "metadata": {},
   "source": [
    "## Aggregate trips "
   ]
  },
  {
   "cell_type": "code",
   "execution_count": 113,
   "id": "91315c3a-848a-4b5f-8426-a02b5370eabf",
   "metadata": {},
   "outputs": [
    {
     "data": {
      "text/plain": [
       "Index(['date', 'ride_id', 'rideable_type', 'started_at', 'ended_at',\n",
       "       'start_station_name', 'start_station_id', 'end_station_name',\n",
       "       'end_station_id', 'start_lat', 'start_lng', 'end_lat', 'end_lng',\n",
       "       'member_casual', 'avgTemp'],\n",
       "      dtype='object')"
      ]
     },
     "execution_count": 113,
     "metadata": {},
     "output_type": "execute_result"
    }
   ],
   "source": [
    "df.columns"
   ]
  },
  {
   "cell_type": "code",
   "execution_count": 114,
   "id": "05b7d1e5-90a0-46e6-8357-c0bc38d7057f",
   "metadata": {},
   "outputs": [],
   "source": [
    "# grouping by the count of the trips\n",
    "df_group = pd.DataFrame(df.groupby(['date'])['ride_id'].count()).reset_index()"
   ]
  },
  {
   "cell_type": "code",
   "execution_count": 115,
   "id": "bcc7b7d8-7f17-41f0-83cc-3eeccff5a1f0",
   "metadata": {},
   "outputs": [
    {
     "data": {
      "text/html": [
       "<div>\n",
       "<style scoped>\n",
       "    .dataframe tbody tr th:only-of-type {\n",
       "        vertical-align: middle;\n",
       "    }\n",
       "\n",
       "    .dataframe tbody tr th {\n",
       "        vertical-align: top;\n",
       "    }\n",
       "\n",
       "    .dataframe thead th {\n",
       "        text-align: right;\n",
       "    }\n",
       "</style>\n",
       "<table border=\"1\" class=\"dataframe\">\n",
       "  <thead>\n",
       "    <tr style=\"text-align: right;\">\n",
       "      <th></th>\n",
       "      <th>date</th>\n",
       "      <th>ride_id</th>\n",
       "    </tr>\n",
       "  </thead>\n",
       "  <tbody>\n",
       "    <tr>\n",
       "      <th>0</th>\n",
       "      <td>2022-01-01</td>\n",
       "      <td>1028</td>\n",
       "    </tr>\n",
       "    <tr>\n",
       "      <th>1</th>\n",
       "      <td>2022-01-02</td>\n",
       "      <td>2120</td>\n",
       "    </tr>\n",
       "    <tr>\n",
       "      <th>2</th>\n",
       "      <td>2022-01-03</td>\n",
       "      <td>1668</td>\n",
       "    </tr>\n",
       "    <tr>\n",
       "      <th>3</th>\n",
       "      <td>2022-01-04</td>\n",
       "      <td>1844</td>\n",
       "    </tr>\n",
       "    <tr>\n",
       "      <th>4</th>\n",
       "      <td>2022-01-05</td>\n",
       "      <td>1717</td>\n",
       "    </tr>\n",
       "  </tbody>\n",
       "</table>\n",
       "</div>"
      ],
      "text/plain": [
       "        date  ride_id\n",
       "0 2022-01-01     1028\n",
       "1 2022-01-02     2120\n",
       "2 2022-01-03     1668\n",
       "3 2022-01-04     1844\n",
       "4 2022-01-05     1717"
      ]
     },
     "execution_count": 115,
     "metadata": {},
     "output_type": "execute_result"
    }
   ],
   "source": [
    "df_group.head()"
   ]
  },
  {
   "cell_type": "code",
   "execution_count": 116,
   "id": "d72e9e7f-2bba-4f87-a3c8-88ff8ea43bc4",
   "metadata": {},
   "outputs": [],
   "source": [
    "#renaming ride_id column\n",
    "df_group.rename(columns = {'ride_id':'daily_bike_rides'}, inplace = True)"
   ]
  },
  {
   "cell_type": "code",
   "execution_count": 117,
   "id": "4caf692e-ed70-4ad7-80f3-020f436b8065",
   "metadata": {},
   "outputs": [
    {
     "data": {
      "text/html": [
       "<div>\n",
       "<style scoped>\n",
       "    .dataframe tbody tr th:only-of-type {\n",
       "        vertical-align: middle;\n",
       "    }\n",
       "\n",
       "    .dataframe tbody tr th {\n",
       "        vertical-align: top;\n",
       "    }\n",
       "\n",
       "    .dataframe thead th {\n",
       "        text-align: right;\n",
       "    }\n",
       "</style>\n",
       "<table border=\"1\" class=\"dataframe\">\n",
       "  <thead>\n",
       "    <tr style=\"text-align: right;\">\n",
       "      <th></th>\n",
       "      <th>date</th>\n",
       "      <th>daily_bike_rides</th>\n",
       "    </tr>\n",
       "  </thead>\n",
       "  <tbody>\n",
       "    <tr>\n",
       "      <th>0</th>\n",
       "      <td>2022-01-01</td>\n",
       "      <td>1028</td>\n",
       "    </tr>\n",
       "    <tr>\n",
       "      <th>1</th>\n",
       "      <td>2022-01-02</td>\n",
       "      <td>2120</td>\n",
       "    </tr>\n",
       "    <tr>\n",
       "      <th>2</th>\n",
       "      <td>2022-01-03</td>\n",
       "      <td>1668</td>\n",
       "    </tr>\n",
       "    <tr>\n",
       "      <th>3</th>\n",
       "      <td>2022-01-04</td>\n",
       "      <td>1844</td>\n",
       "    </tr>\n",
       "    <tr>\n",
       "      <th>4</th>\n",
       "      <td>2022-01-05</td>\n",
       "      <td>1717</td>\n",
       "    </tr>\n",
       "  </tbody>\n",
       "</table>\n",
       "</div>"
      ],
      "text/plain": [
       "        date  daily_bike_rides\n",
       "0 2022-01-01              1028\n",
       "1 2022-01-02              2120\n",
       "2 2022-01-03              1668\n",
       "3 2022-01-04              1844\n",
       "4 2022-01-05              1717"
      ]
     },
     "execution_count": 117,
     "metadata": {},
     "output_type": "execute_result"
    }
   ],
   "source": [
    "df_group.head()"
   ]
  },
  {
   "cell_type": "code",
   "execution_count": 157,
   "id": "1db6f982-9e30-4083-a9c3-b0a6dfc29d87",
   "metadata": {},
   "outputs": [],
   "source": [
    "#creating a subsample of weather data because it is too large\n",
    "df_subsample = df.sample(frac=.1)"
   ]
  },
  {
   "cell_type": "code",
   "execution_count": 158,
   "id": "3297634e-21e0-461b-9175-b5e815cd6935",
   "metadata": {},
   "outputs": [
    {
     "name": "stdout",
     "output_type": "stream",
     "text": [
      "_merge\n",
      "both          149191\n",
      "left_only          0\n",
      "right_only         0\n",
      "Name: count, dtype: int64\n"
     ]
    }
   ],
   "source": [
    "#merging subsample of weather data with daily_bike_rides_data\n",
    "df_2 = df_subsample.merge(df_group, on = \"date\", how = 'outer', indicator = True)\n",
    "#checking to see if merge was successful\n",
    "print(df_2['_merge'].value_counts(dropna = False))"
   ]
  },
  {
   "cell_type": "code",
   "execution_count": 159,
   "id": "9b921844-f22a-440f-969a-495420086f59",
   "metadata": {},
   "outputs": [],
   "source": [
    "df_temp = df_2.drop(columns=['start_station_id', 'end_station_id', '_merge'])"
   ]
  },
  {
   "cell_type": "code",
   "execution_count": 160,
   "id": "520c29d9-4a80-4c10-952f-45704ab7ce8a",
   "metadata": {},
   "outputs": [
    {
     "data": {
      "text/html": [
       "<div>\n",
       "<style scoped>\n",
       "    .dataframe tbody tr th:only-of-type {\n",
       "        vertical-align: middle;\n",
       "    }\n",
       "\n",
       "    .dataframe tbody tr th {\n",
       "        vertical-align: top;\n",
       "    }\n",
       "\n",
       "    .dataframe thead th {\n",
       "        text-align: right;\n",
       "    }\n",
       "</style>\n",
       "<table border=\"1\" class=\"dataframe\">\n",
       "  <thead>\n",
       "    <tr style=\"text-align: right;\">\n",
       "      <th></th>\n",
       "      <th>date</th>\n",
       "      <th>ride_id</th>\n",
       "      <th>rideable_type</th>\n",
       "      <th>started_at</th>\n",
       "      <th>ended_at</th>\n",
       "      <th>start_station_name</th>\n",
       "      <th>end_station_name</th>\n",
       "      <th>start_lat</th>\n",
       "      <th>start_lng</th>\n",
       "      <th>end_lat</th>\n",
       "      <th>end_lng</th>\n",
       "      <th>member_casual</th>\n",
       "      <th>avgTemp</th>\n",
       "      <th>daily_bike_rides</th>\n",
       "    </tr>\n",
       "  </thead>\n",
       "  <tbody>\n",
       "    <tr>\n",
       "      <th>0</th>\n",
       "      <td>2022-01-01</td>\n",
       "      <td>69E36EE94F201D31</td>\n",
       "      <td>electric_bike</td>\n",
       "      <td>2022-01-01 16:15:45.492</td>\n",
       "      <td>2022-01-01 16:33:09.229</td>\n",
       "      <td>E 58 St &amp; 3 Ave</td>\n",
       "      <td>W 87 St &amp; Amsterdam Ave</td>\n",
       "      <td>40.760958</td>\n",
       "      <td>-73.967245</td>\n",
       "      <td>40.788390</td>\n",
       "      <td>-73.974700</td>\n",
       "      <td>member</td>\n",
       "      <td>11.6</td>\n",
       "      <td>1028</td>\n",
       "    </tr>\n",
       "    <tr>\n",
       "      <th>1</th>\n",
       "      <td>2022-01-01</td>\n",
       "      <td>12E108C5D4E30944</td>\n",
       "      <td>electric_bike</td>\n",
       "      <td>2022-01-01 17:18:32.640</td>\n",
       "      <td>2022-01-01 17:20:12.257</td>\n",
       "      <td>Marcus Garvey Blvd &amp; Macon St</td>\n",
       "      <td>Albany Ave &amp; Fulton St</td>\n",
       "      <td>40.682601</td>\n",
       "      <td>-73.938037</td>\n",
       "      <td>40.680011</td>\n",
       "      <td>-73.938475</td>\n",
       "      <td>member</td>\n",
       "      <td>11.6</td>\n",
       "      <td>1028</td>\n",
       "    </tr>\n",
       "    <tr>\n",
       "      <th>2</th>\n",
       "      <td>2022-01-01</td>\n",
       "      <td>2095EF3D254EB940</td>\n",
       "      <td>classic_bike</td>\n",
       "      <td>2022-01-01 18:21:43.082</td>\n",
       "      <td>2022-01-01 18:29:56.749</td>\n",
       "      <td>W 21 St &amp; 6 Ave</td>\n",
       "      <td>8 Ave &amp; W 27 St</td>\n",
       "      <td>40.741740</td>\n",
       "      <td>-73.994156</td>\n",
       "      <td>40.747968</td>\n",
       "      <td>-73.996637</td>\n",
       "      <td>member</td>\n",
       "      <td>11.6</td>\n",
       "      <td>1028</td>\n",
       "    </tr>\n",
       "    <tr>\n",
       "      <th>3</th>\n",
       "      <td>2022-01-01</td>\n",
       "      <td>10822F0E35739F43</td>\n",
       "      <td>classic_bike</td>\n",
       "      <td>2022-01-01 09:21:09.002</td>\n",
       "      <td>2022-01-01 09:24:39.216</td>\n",
       "      <td>W 70 St &amp; Amsterdam Ave</td>\n",
       "      <td>West End Ave &amp; W 60 St</td>\n",
       "      <td>40.777480</td>\n",
       "      <td>-73.982886</td>\n",
       "      <td>40.772370</td>\n",
       "      <td>-73.990050</td>\n",
       "      <td>member</td>\n",
       "      <td>11.6</td>\n",
       "      <td>1028</td>\n",
       "    </tr>\n",
       "    <tr>\n",
       "      <th>4</th>\n",
       "      <td>2022-01-01</td>\n",
       "      <td>A8F8740F4C893FC8</td>\n",
       "      <td>classic_bike</td>\n",
       "      <td>2022-01-01 17:06:59.480</td>\n",
       "      <td>2022-01-01 17:34:11.478</td>\n",
       "      <td>Washington Pl &amp; 6 Ave</td>\n",
       "      <td>E 2 St &amp; Avenue A</td>\n",
       "      <td>40.732241</td>\n",
       "      <td>-74.000264</td>\n",
       "      <td>40.723077</td>\n",
       "      <td>-73.985836</td>\n",
       "      <td>member</td>\n",
       "      <td>11.6</td>\n",
       "      <td>1028</td>\n",
       "    </tr>\n",
       "  </tbody>\n",
       "</table>\n",
       "</div>"
      ],
      "text/plain": [
       "        date           ride_id  rideable_type               started_at  \\\n",
       "0 2022-01-01  69E36EE94F201D31  electric_bike  2022-01-01 16:15:45.492   \n",
       "1 2022-01-01  12E108C5D4E30944  electric_bike  2022-01-01 17:18:32.640   \n",
       "2 2022-01-01  2095EF3D254EB940   classic_bike  2022-01-01 18:21:43.082   \n",
       "3 2022-01-01  10822F0E35739F43   classic_bike  2022-01-01 09:21:09.002   \n",
       "4 2022-01-01  A8F8740F4C893FC8   classic_bike  2022-01-01 17:06:59.480   \n",
       "\n",
       "                  ended_at             start_station_name  \\\n",
       "0  2022-01-01 16:33:09.229                E 58 St & 3 Ave   \n",
       "1  2022-01-01 17:20:12.257  Marcus Garvey Blvd & Macon St   \n",
       "2  2022-01-01 18:29:56.749                W 21 St & 6 Ave   \n",
       "3  2022-01-01 09:24:39.216        W 70 St & Amsterdam Ave   \n",
       "4  2022-01-01 17:34:11.478          Washington Pl & 6 Ave   \n",
       "\n",
       "          end_station_name  start_lat  start_lng    end_lat    end_lng  \\\n",
       "0  W 87 St & Amsterdam Ave  40.760958 -73.967245  40.788390 -73.974700   \n",
       "1   Albany Ave & Fulton St  40.682601 -73.938037  40.680011 -73.938475   \n",
       "2          8 Ave & W 27 St  40.741740 -73.994156  40.747968 -73.996637   \n",
       "3   West End Ave & W 60 St  40.777480 -73.982886  40.772370 -73.990050   \n",
       "4        E 2 St & Avenue A  40.732241 -74.000264  40.723077 -73.985836   \n",
       "\n",
       "  member_casual  avgTemp  daily_bike_rides  \n",
       "0        member     11.6              1028  \n",
       "1        member     11.6              1028  \n",
       "2        member     11.6              1028  \n",
       "3        member     11.6              1028  \n",
       "4        member     11.6              1028  "
      ]
     },
     "execution_count": 160,
     "metadata": {},
     "output_type": "execute_result"
    }
   ],
   "source": [
    "df_temp.head()"
   ]
  },
  {
   "cell_type": "code",
   "execution_count": 161,
   "id": "5b85474e-7f0e-409b-9ca2-514af7991875",
   "metadata": {},
   "outputs": [],
   "source": [
    "import os"
   ]
  },
  {
   "cell_type": "code",
   "execution_count": 162,
   "id": "79854888-18ef-41c5-8269-58962fadfa5e",
   "metadata": {},
   "outputs": [],
   "source": [
    "path = r'C:\\Users\\canam\\OneDrive\\Desktop\\Career Foundry\\Specialization\\Achievement 2'"
   ]
  },
  {
   "cell_type": "code",
   "execution_count": 163,
   "id": "04c3b0b2-d972-4dec-85c1-8ff09c815b1e",
   "metadata": {},
   "outputs": [],
   "source": [
    "df_temp.to_csv(os.path.join(path, 'New_York_Citibike_2022','weather_and_daily_bike_rides_data_smallest_subset.csv'))"
   ]
  },
  {
   "cell_type": "markdown",
   "id": "7390984e-1855-4f24-b925-a6c1c57ab502",
   "metadata": {},
   "source": [
    "## Plotting bike trips and temperatures on a dual axis"
   ]
  },
  {
   "cell_type": "code",
   "execution_count": 165,
   "id": "5b9961d4-4ac5-4b1d-85cf-26b4243b5553",
   "metadata": {},
   "outputs": [
    {
     "data": {
      "image/png": "[encoded data removed]",
      "text/plain": [
       "<Figure size 1200x500 with 2 Axes>"
      ]
     },
     "metadata": {},
     "output_type": "display_data"
    }
   ],
   "source": [
    "# Creating figure and axis objects with subplots()\n",
    "\n",
    "fig,ax = plt.subplots(figsize=(12, 5))\n",
    "\n",
    "# Making a plot of the bike rides\n",
    "ax.plot(df_temp['daily_bike_rides'],color = \"blue\")\n",
    "ax.set_xlabel(\"Year 2022\", fontsize = 14) # setting x-axis label\n",
    "ax.set_ylabel(\"Daily Bike Rides\",color = \"blue\", fontsize = 14) # setting y-axis label\n",
    "\n",
    "#creating the dual axis - initializing a twin object for two different y-axis on the sample plot\n",
    "ax2 = ax.twinx()\n",
    "\n",
    "# Making a plot with the temperatues on the y-axis using second axis object\n",
    "ax2.plot(df_temp[\"avgTemp\"], color = \"red\")\n",
    "ax2.set_ylabel(\"Average temperatures\", color = \"red\",fontsize=14)\n",
    "plt.title('Temperature and trips in 2022', fontsize = 18)\n",
    "plt.show()"
   ]
  },
  {
   "cell_type": "markdown",
   "id": "e222be9a-a729-4979-a032-b8c3a50fed67",
   "metadata": {},
   "source": [
    "I used the object-oriented approach to make this chart.  First, I created the objects fig (figure/container) and ax (axes) as subplots to the chart.  Then I defined the first plot (daily_bike_rides), set the x-axis to \"Year 2022\", and set the y-axis to \"Daily Bike Rides.\"  The next step was to define the second plot (avgTemp) but because daily_bike_rides and avgTemp have different scales, I needed to first create a twin axis.  This would put avg_Temp on the same chart as the daily_bike_rides but with its own scale on the other y-axis.  After I created the twin axis, I defined the second plot (avgTemp) and all that was left to do was label the other y-axis to \"Average Temperatures\" and create a title for the chart.         "
   ]
  },
  {
   "cell_type": "code",
   "execution_count": null,
   "id": "e89a3deb-000e-48dd-947b-b00dccfb8c31",
   "metadata": {},
   "outputs": [],
   "source": []
  }
 ],
 "metadata": {
  "kernelspec": {
   "display_name": "Python (New_York_Citibike_2022)",
   "language": "python",
   "name": "new_york_citibike_2022"
  },
  "language_info": {
   "codemirror_mode": {
    "name": "ipython",
    "version": 3
   },
   "file_extension": ".py",
   "mimetype": "text/x-python",
   "name": "python",
   "nbconvert_exporter": "python",
   "pygments_lexer": "ipython3",
   "version": "3.12.3"
  }
 },
 "nbformat": 4,
 "nbformat_minor": 5
}
