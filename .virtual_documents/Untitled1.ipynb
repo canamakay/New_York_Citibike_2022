





import pandas as pd 
import numpy as np
import os 
import requests
import json
from datetime import datetime


# Creating a list with all files in the folder using a list compehension

folderpath = r"Data"
filepaths  = [os.path.join(folderpath, name) for name in os.listdir(folderpath)]


filepaths


# Read and concatenate all files simultaneously
#filepaths is a list of the paths to the files to be combined
#the code pd.read_csv() is applied to each of the files
#after the files are read,they are passed through pd.concat(), which joins the data in the files vertically
#and returns the dataframe df 
df = pd.concat((pd.read_csv(f) for f in filepaths), ignore_index = True)


df.shape


df.head()


df.tail()





# Defining my NOAA token
Token = 'YbVdOcLhqsZWTibbLYyhKpvODBCiNora' 


# Getting the API 

r = requests.get('https://www.ncdc.noaa.gov/cdo-web/api/v2/data?datasetid=GHCND&datatypeid=TAVG&limit=1000&stationid=GHCND:USW00014732&startdate=2022-01-01&enddate=2022-12-31', headers={'token':Token})


# Loading the api response as a json

d = json.loads(r.text)


d


# Securing all items in the response that correspond to TAVG
avg_temps = [item for item in d['results'] if item['datatype']=='TAVG']


avg_temps


# getting only the date field from all average temperature readings

dates_temp = [item['date'] for item in avg_temps]


dates_temp


# Getting the temperature from all average temperature readings

temps = [item['value'] for item in avg_temps]


temps


# putting the results in a dataframe

df_temp = pd.DataFrame()


# Getting only date and casting it to date time; converting temperature from tenths of Celsius to normal Celsius

df_temp['date'] = [datetime.strptime(d, "%Y-%m-%dT%H:%M:%S") for d in dates_temp]
df_temp['avgTemp'] = [float(v)/10.0 for v in temps]


df_temp.dtypes


df_temp.head()


df_temp.tail()


#getting data types of other dataframe
df.dtypes


#changing start_time format to datetime format
df['started_at'] = pd.to_datetime(df['started_at'], dayfirst = True)


#removing the hours, minutes, and seconds component of the date
df['date'] = pd.to_datetime(df['started_at'], format='%Y-%m-%d').dt.date


#putting results into a dataframe
df['date'] = pd.to_datetime(df['date'])


df.head()


%%time
df_merged = df.merge(df_temp, how = 'left', on = 'date', indicator = True)


df_merged.head()


#checking if the dataframes merged correctly
df_merged['_merge'].value_counts(dropna = False)


#investigating the unmatched rows 
unmatched = df_merged[df_merged['_merge'] == 'left_only']
print(unmatched)


#seems all the unmatched rows in df had a start date of <1/01/2022.  Let's create a dataframe 
#without these rows


df = df[df['date'] >= '2022-01-01']


#trying the merge again
df_merged = df.merge(df_temp, how = 'left', on = 'date', indicator = True)


#checking if the dataframes merged correctly this time
df_merged['_merge'].value_counts(dropna = False)


path = r'C:\Users\canam\OneDrive\Desktop\Career Foundry\Specialization\Achievement 2'


df_merged.to_csv(os.path.join(path, 'New_York_Citibike_2022','new_york_citibike_2022_data.csv'))


df_merged.shape
